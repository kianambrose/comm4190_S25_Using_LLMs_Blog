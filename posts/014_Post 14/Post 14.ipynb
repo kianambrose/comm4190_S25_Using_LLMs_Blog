{
 "cells": [
  {
   "cell_type": "raw",
   "id": "3e04b7d0-1e68-4f92-ab9f-142d6582fe14",
   "metadata": {},
   "source": [
    "---\n",
    "title: \"Guessing Age with Chat GPT\"\n",
    "description: \"How well can Chat GPT estimate age based solely on pictures?\"\n",
    "author: \"Kian Ambrose\"\n",
    "date: \"04/03/2025\"\n",
    "categories:\n",
    "  - LLMs\n",
    "  - Images\n",
    "  - Interpretation\n",
    "execute:\n",
    "  echo: false\n",
    "  output: asis\n",
    "\n",
    "---"
   ]
  },
  {
   "cell_type": "markdown",
   "id": "e7725ae2-76e4-4cb5-9e80-8317b7fa3553",
   "metadata": {},
   "source": [
    "# Plan\n",
    "In this blog post, I will be testing ChatGPT's ability to determine age based solely on images I provide. My guess is that it will be pretty good at estimating the age of the person in the pictures, but that it will be wrong some of the time.\n",
    "\n",
    "# Image 1\n",
    "<img src=\"Age 1.png\" width=\"50%\"/>\n",
    "\n",
    "Here, ChatGPT was able to get the age correct. I like the fact that it gave a range, because people often look very different, even at the same age. The range accounts for some of the variation in people’s appearances. It also provided some explanation as to why it picked the age it did, all of which made sense.\n",
    "\n",
    "# Image 2\n",
    "<img src=\"Age 2.png\" width=\"50%\"/>\n",
    "\n",
    "Again, ChatGPT was correct. This was very impressive to me because even if I had to guess what age I was in the picture—without knowing the date it was taken—I’m not confident that I would be able to guess my own age accurately.\n",
    "\n",
    "# Image 3\n",
    "<img src=\"Age 3.png\" width=\"50%\"/>\n",
    "\n",
    "In this attempt, ChatGPT was off by one year. I was 16 in the picture, so ChatGPT thought I was older than I actually was. I’m guessing this is due to the fact that people mature differently, and maybe my features aligned more closely with those of slightly older individuals that the model was trained on.\n",
    "\n",
    "# Image 4\n",
    "\n",
    "For this attempt, I tried using a much older individual, where changes in age are often less noticeable than in young children.\n",
    "\n",
    "<img src=\"Age 4.png\" width=\"50%\"/>\n",
    "\n",
    "I was slightly surprised by the accuracy of ChatGPT in this attempt. While it did give a broader range, the correct age was included in the range. I then asked it to narrow down the age to exactly one number. When it did this, it came within one year of the correct age.\n",
    "\n",
    "---\n",
    "\n",
    "Overall, I was very impressed by ChatGPT's ability to estimate the ages of the people in the photos. With no context, it was able to get close to the correct age every time. I think it would be interesting to see how accurate it is when guessing the ages of other animals. I would anticipate it would be much worse in those scenarios, but I think it would be an interesting thing to test.\n"
   ]
  }
 ],
 "metadata": {
  "citation-manager": {
   "items": {}
  },
  "kernelspec": {
   "display_name": "Python 3 (ipykernel)",
   "language": "python",
   "name": "python3"
  },
  "language_info": {
   "codemirror_mode": {
    "name": "ipython",
    "version": 3
   },
   "file_extension": ".py",
   "mimetype": "text/x-python",
   "name": "python",
   "nbconvert_exporter": "python",
   "pygments_lexer": "ipython3",
   "version": "3.10.12"
  }
 },
 "nbformat": 4,
 "nbformat_minor": 5
}
