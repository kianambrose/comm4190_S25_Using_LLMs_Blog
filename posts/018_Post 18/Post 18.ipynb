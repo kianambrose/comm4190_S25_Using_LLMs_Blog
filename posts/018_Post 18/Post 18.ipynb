{
 "cells": [
  {
   "cell_type": "raw",
   "id": "2b7dc72f-b023-4d2e-b8ac-f6682eb06112",
   "metadata": {},
   "source": [
    "---\n",
    "title: \"Chat GPT For Learning About People\"\n",
    "description: \"Using ChatGPT to Learn About Lesser-Known Individuals\"\n",
    "author: \"Kian Ambrose\"\n",
    "date: \"04/19/2025\"\n",
    "categories:\n",
    "  - LLMs\n",
    "  - Research\n",
    "  - WebSearch\n",
    "execute:\n",
    "  echo: false\n",
    "  output: asis\n",
    "\n",
    "---"
   ]
  },
  {
   "cell_type": "markdown",
   "id": "f9ec64e3-4d26-4ec1-be7d-d76fc0132eff",
   "metadata": {},
   "source": [
    "# Plan\n",
    "\n",
    "I want to explore how effectively ChatGPT can be used to learn about individuals who aren’t public figures or celebrities. For example, I want to see if ChatGPT can find information about me online and summarize everything it knows. While I could manually search the web and browse platforms like LinkedIn, Instagram, or any websites where my information might appear, I think it would be more efficient to have ChatGPT gather and summarize that data for me. The goal is to test how accurate and efficient ChatGPT is at finding and presenting information about non-celebrities."
   ]
  },
  {
   "cell_type": "markdown",
   "id": "3d81aad1-46cb-4154-b974-b4e71b7cbb9a",
   "metadata": {},
   "source": [
    "# Test 1\n",
    "\n",
    "For the first test, I asked ChatGPT about Kian Ambrose (me). Since I’m using my own ChatGPT account, I was concerned that some of the information might come from memory based on previous interactions I’ve had with it. However, I suspected it might also search the web, so I decided to try it anyway.\n",
    "\n",
    "<img src=\"People 1.png\" width=\"50%\"/>\n",
    "\n",
    "Here, ChatGPT did a great job finding information and presenting it in a way that gave me a clear overview of myself. It appears that ChatGPT primarily used its web browsing capabilities rather than relying on memory from past conversations. Impressively, it located nearly every website I’m aware of where my name is mentioned. I expected it to pull from LinkedIn, but I was surprised to see that it also found information about my soccer history. Overall, this process was faster than manually visiting all the sites myself, and the information was just as accurate.\n",
    "\n",
    "# Test 2\n",
    "\n",
    "For the second test, I asked ChatGPT about my friend.\n",
    "\n",
    "<img src=\"People 2.png\" width=\"50%\"/>\n",
    "\n",
    "This time, likely because the name is more common, ChatGPT returned a list of possible matches. Fortunately, the first result was the person I was looking for, so I asked it to provide more details on that individual.\n",
    "\n",
    "<img src=\"People 3.png\" width=\"50%\"/>\n",
    "\n",
    "In this case, it seems ChatGPT only pulled information from Dillon’s LinkedIn. To compare this with a manual search, I tried looking him up myself. I found it surprisingly difficult to locate the right Dillon without including specific details I already knew—like his school—in the search. Without that, the search results were far too broad.\n",
    "\n",
    "# Test 3\n",
    "\n",
    "For the final test, I asked ChatGPT about another friend.\n",
    "\n",
    "<img src=\"People 4.png\" width=\"50%\"/>\n",
    "\n",
    "As with Dillon, ChatGPT presented a list of possible individuals. Again, the first option was the person I had in mind. I’m a bit curious whether that was just a coincidence or if ChatGPT used context—like my location or network—to prioritize certain results.\n",
    "\n",
    "This time, I asked ChatGPT to dig further and provide additional information.\n",
    "\n",
    "<img src=\"People 5.png\" width=\"50%\"/>\n",
    "\n",
    "ChatGPT found numerous references to Alejandro and gave a solid summary of his involvements. The response felt surprisingly comprehensive, almost like a mini Wikipedia page. It presented the information in a way that made him seem like a public figure, with everything easily accessible and neatly summarized.\n",
    "\n",
    "# Conclusion\n",
    "\n",
    "Overall, ChatGPT performed very well in this role. It was more efficient than conducting a manual web search and presented the information in a clear and concise way. I’m interested in seeing how much further it can go, especially with the addition of features like Deep Research. It would be fascinating to test its limits and see just how much it can uncover."
   ]
  }
 ],
 "metadata": {
  "citation-manager": {
   "items": {}
  },
  "kernelspec": {
   "display_name": "Python 3 (ipykernel)",
   "language": "python",
   "name": "python3"
  },
  "language_info": {
   "codemirror_mode": {
    "name": "ipython",
    "version": 3
   },
   "file_extension": ".py",
   "mimetype": "text/x-python",
   "name": "python",
   "nbconvert_exporter": "python",
   "pygments_lexer": "ipython3",
   "version": "3.10.12"
  }
 },
 "nbformat": 4,
 "nbformat_minor": 5
}
