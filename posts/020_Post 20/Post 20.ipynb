{
 "cells": [
  {
   "cell_type": "raw",
   "id": "6b68c4e1-70e4-4965-a8cf-6c2e2fd31144",
   "metadata": {},
   "source": [
    "---\n",
    "title: \"ChatGPT Versus AI Detector\"\n",
    "description: \"Can an AI detector detect ChatGPT's writing?\"\n",
    "author: \"Kian Ambrose\"\n",
    "date: \"04/25/2025\"\n",
    "categories:\n",
    "  - LLMs\n",
    "  - AI Detection\n",
    "  - ChatGPT\n",
    "execute:\n",
    "  echo: false\n",
    "  output: asis\n",
    "\n",
    "---"
   ]
  },
  {
   "cell_type": "markdown",
   "id": "387159c4-e083-4dad-af2b-77bda2a21ffb",
   "metadata": {},
   "source": [
    "# Plan\n",
    "\n",
    "In this post, I am going to test the effectiveness of the ZeroGPT AI detector and ChatGPT’s ability to mimic human writing. To do so, I will first instruct ChatGPT to write a short story. I will then submit it to ZeroGPT and observe whether it detects the text as AI-generated. After that, I will ask ChatGPT to rewrite the same story in a way that mimics how a human might write it. I’ll submit this second version to ZeroGPT as well. \n",
    "\n",
    "My prediction is that ZeroGPT will detect AI in both cases. However, AI detectors like ZeroGPT sometimes struggle to differentiate between human and AI-generated text, so the outcome may not be as straightforward.\n",
    "\n",
    "# Prompt 1\n",
    "\n",
    "I want the prompt to be long enough for ZeroGPT to identify typical AI writing patterns. Therefore, I asked ChatGPT to write three paragraphs.\n",
    "\n",
    "<img src=\"Tester 1.png\" width=\"80%\"/>\n",
    "\n",
    "I then submitted the text to ZeroGPT.\n",
    "\n",
    "<img src=\"Tester 2.png\" width=\"80%\"/>\n",
    "\n",
    "As expected, ZeroGPT identified the text as 100% AI-generated. Now, I will ask ChatGPT to “write like a human” and see how the AI detector evaluates the new version.\n",
    "\n",
    "<img src=\"Tester 3.png\" width=\"80%\"/>\n",
    "\n",
    "Before testing the text, I noticed the writing felt more human—more like someone talking casually. The tone is informal, and the word choice is simpler, which makes it feel more natural. Let’s see how ZeroGPT responds.\n",
    "\n",
    "<img src=\"Tester 4.png\" width=\"80%\"/>\n",
    "\n",
    "This time, ZeroGPT did not classify three of the sentences as AI-generated. This surprised me a bit, as I expected ChatGPT to perform better in bypassing detection. Now, I’ll explicitly tell ChatGPT that the story will be evaluated by an AI detector and instruct it to make the text pass as 100% human.\n",
    "\n",
    "<img src=\"Tester 5.png\" width=\"80%\"/>\n",
    "\n",
    "This version feels even more casual—almost like a transcript of a conversation or a text message. The story loses some narrative flow, and the sentence structure becomes more inconsistent, with uneven pacing and rhythm. Let’s see how ZeroGPT evaluates it.\n",
    "\n",
    "<img src=\"Tester 6.png\" width=\"80%\"/>\n",
    "\n",
    "ZeroGPT identified only a few sentences as AI-generated. This result is more in line with my expectations. However, this type of writing wouldn’t be appropriate in a formal setting. So, I became curious whether there’s a way to instruct ChatGPT to write more human-like without making it sound like casual speech. To learn more, I asked ChatGPT what characteristics of AI writing typically stand out to AI detectors.\n",
    "\n",
    "<img src=\"Tester 7.png\" width=\"80%\"/>\n",
    "<img src=\"Tester 8.png\" width=\"80%\"/>\n",
    "\n",
    "Next, I had ChatGPT revise the original story again, but this time, I didn’t tell it to trick the detector directly. Instead, I used the characteristics it described to guide the revision. I instructed it to “decrease the perplexity and avoid overly balanced syntax. Also vary the rhythm and structure.”\n",
    "\n",
    "<img src=\"Tester 9.png\" width=\"80%\"/>\n",
    "\n",
    "This version feels much more like natural human writing. It reads smoothly, without sounding like someone speaking casually. Let’s see what ZeroGPT thinks.\n",
    "\n",
    "<img src=\"Tester 10.png\" width=\"80%\"/>\n",
    "\n",
    "Even better! ZeroGPT flagged even fewer sentences as AI-generated. It seems that using direct guidance based on the characteristics of AI writing allows the text to remain natural while also mimicking human patterns more effectively.\n"
   ]
  },
  {
   "cell_type": "code",
   "execution_count": null,
   "id": "564c0df9-69c3-439f-8930-05a99afd2fbc",
   "metadata": {},
   "outputs": [],
   "source": []
  }
 ],
 "metadata": {
  "citation-manager": {
   "items": {}
  },
  "kernelspec": {
   "display_name": "Python 3 (ipykernel)",
   "language": "python",
   "name": "python3"
  },
  "language_info": {
   "codemirror_mode": {
    "name": "ipython",
    "version": 3
   },
   "file_extension": ".py",
   "mimetype": "text/x-python",
   "name": "python",
   "nbconvert_exporter": "python",
   "pygments_lexer": "ipython3",
   "version": "3.10.12"
  }
 },
 "nbformat": 4,
 "nbformat_minor": 5
}
