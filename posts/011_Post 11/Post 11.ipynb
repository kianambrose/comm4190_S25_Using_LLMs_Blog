{
 "cells": [
  {
   "cell_type": "raw",
   "id": "eeb71af7-28c4-4c6e-99bb-278f601d9639",
   "metadata": {},
   "source": [
    "---\n",
    "title: \"Can Chat GPT Help me Follow an Internet Trend\"\n",
    "description: \"Writing a song with Chat GPT \"\n",
    "author: \"Kian Ambrose\"\n",
    "date: \"03/27/2025\"\n",
    "categories:\n",
    "  - LLMs\n",
    "  - Song Generation\n",
    "  - Lyric Creativity\n",
    "execute:\n",
    "  echo: false\n",
    "  output: asis\n",
    "\n",
    "---"
   ]
  },
  {
   "cell_type": "markdown",
   "id": "b398e568-bc16-4824-9847-b34673a26b92",
   "metadata": {},
   "source": [
    "# Lebron Song Parody\n",
    "In case you have not seen, many people have begun posting videos of Lebron James highlights with a parody of some popular song playing in the background. The parody's all substitute lyrics to talk about Lebron whil keeping the same sound and overall flow of the original hit song. In this post, I want to find out how well Chat GPT can create one of these parody songs.\n",
    "\n",
    "\n",
    "# Step 1\n",
    "First, I want to ask Chat GPT if it is familiar with the trend. Let's see what it says.\n",
    "\n",
    "<img src=\"Lebron 1.png\" width=\"50%\"/>\n",
    "\n",
    "Thanks to the \"search\" feature of ChatGPT 4o, it was able to do a quick web search and find a good basis for what the trend is about. It was also able to find a video of Lebron talking about the trend, which I find impressive because I just saw this exact video on the day of making this post.\n",
    "\n",
    "# Step 2\n",
    "Now, I want to have Chat GPT try to create its own Lebron Song. First, I will have it pick a pop song that many people know so that the tune will be easily identifiable for those seeing it on social media.\n",
    "\n",
    "<img src=\"Lebron 2.png\" width=\"50%\"/>\n",
    "\n",
    "These are all good suggestions and songs that I think everyone will know. I want to be original though, so let's see if Chat GPT can find me a song that has not been used in a Lebron parody yet. \n",
    "\n",
    "<img src=\"Lebron 3.png\" width=\"50%\"/>\n",
    "\n",
    "Chat GPT does a good job of letting me know which songs have already been used. From what I have seen on social media, Chat GPT has done a pretty good job of identifying some of the main songs that have been remixed. Obviously, people are posting so often that I don't expect Chat GPT to show every song that has been done, but it does a good job of naming the big ones that are everywhere on social media.\n",
    "\n",
    "# Step 3\n",
    "Ok, now I want it to help me generate lyrics for a song. Let's see how Chat GPT does in lyric generation.\n",
    "\n",
    "<img src=\"Lebron 4.png\" width=\"50%\"/>\n",
    "\n",
    "I am very impressed by Chat GPT's ability to create lyrics that follow the trend. Every line ties some aspect of Lebron into it and the rythm and even the rhyme seems to match up very well with the original \"Rolling in the Deep\" by Adele. Additionally, the lyrics are broken into verses and a chorus, following the same structure as Adele. Finally, Chat GPT suggests making a TikTok video out of it, anticipating what I might do now that I have the lyrics. Let's see if it can make the video for me.\n",
    "\n",
    "<img src=\"Lebron 5.png\" width=\"50%\"/>\n",
    "\n",
    "Here, Chat GPT shortens the song to fit into the shorter length videos that are commonly found on TikTok and Instagram. It also suggests slowed-reverb version, which is very common to see in these kinds of videos. To continue with the process, let's see if it can recommend other apps that I can use to actually create the video and song.\n",
    "\n",
    "Ok, Chat GPT suggested:\n",
    "\n",
    "Voicify.AI (https://voicify.ai): Popular for generating AI covers with celebrity voices (Adele is available).\n",
    "\n",
    "Covers.ai (https://covers.ai): Another good option, also supports uploading custom lyrics + backing tracks.\n",
    "\n",
    "Musicfy (https://musicfy.lol): Lets you create AI vocals and has trending artist voices, plus a clean UI.\n",
    "\n",
    "They all required a login to use and payments to use the advanced features, but I am impressed at how far Chat GPT got me. It also suggested software to mix the song and finally how to edit the video into an \"edit\" that is often seen on TikTok and Instagram.\n"
   ]
  }
 ],
 "metadata": {
  "citation-manager": {
   "items": {}
  },
  "kernelspec": {
   "display_name": "Python 3 (ipykernel)",
   "language": "python",
   "name": "python3"
  },
  "language_info": {
   "codemirror_mode": {
    "name": "ipython",
    "version": 3
   },
   "file_extension": ".py",
   "mimetype": "text/x-python",
   "name": "python",
   "nbconvert_exporter": "python",
   "pygments_lexer": "ipython3",
   "version": "3.10.12"
  }
 },
 "nbformat": 4,
 "nbformat_minor": 5
}
