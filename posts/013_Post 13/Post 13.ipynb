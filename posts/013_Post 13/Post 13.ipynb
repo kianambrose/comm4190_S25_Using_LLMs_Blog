{
 "cells": [
  {
   "cell_type": "raw",
   "id": "350c59e6-db21-4439-8b85-c24cd3f2c91d",
   "metadata": {},
   "source": [
    "---\n",
    "title: \"Scheduling Tasks with Chat GPT\"\n",
    "description: \"Experimenting with GPT-4o with scheduled tasks\"\n",
    "author: \"Kian Ambrose\"\n",
    "date: \"04/03/2025\"\n",
    "categories:\n",
    "  - LLMs\n",
    "  - Scheduling\n",
    "  - Reminders\n",
    "execute:\n",
    "  echo: false\n",
    "  output: asis\n",
    "\n",
    "---"
   ]
  },
  {
   "cell_type": "markdown",
   "id": "b1fcb736-e931-4140-9ac5-5ef4775dae8d",
   "metadata": {},
   "source": [
    "# Plan\n",
    "\n",
    "I plan to test the functionality of the scheduled tasks feature on ChatGPT. I first want to test how it works. Do I need to set a specific time for a reminder, or can I tell it to remind me to do something in 2 minutes, for example? Additionally, what kind of tasks can it complete, and what are the limits of its abilities? Hopefully, through this experimentation, I will gauge some of the best use cases for this new beta model.\n",
    "\n",
    "# Test 1\n",
    "\n",
    "First, I told it to remind me to drink water at 1:48. Here is what that looked like:\n",
    "\n",
    "<img src=\"Task 1.png\" width=\"50%\"/>\n",
    "\n",
    "Then, I waited two minutes until 1:48, and sure enough, it reminded me like this:\n",
    "\n",
    "<img src=\"Task 2.png\" width=\"50%\"/>\n",
    "\n",
    "# Test 2\n",
    "\n",
    "It seems that it is working as expected so far. I now want to be a little less specific with my instructions and see if it can still function properly.\n",
    "\n",
    "<img src=\"Task 3.png\" width=\"50%\"/>\n",
    "\n",
    "Here, ChatGPT was able to set the reminder for 1:52, which is indeed 2 minutes from when I prompted it. I expected this to work because it correctly interpreted the current time and the delay.\n",
    "\n",
    "<img src=\"Task 4.png\" width=\"50%\"/>\n",
    "\n",
    "Sure enough, it properly reminded me to eat food, just as in the last example. A banner popped up like before, but I accidentally closed it while taking the picture. My only comment so far is that the clock function seems to be slightly delayed. While it does remind me, it appears to be off by about 30 seconds to 1 minute each time. Let’s see if this continues.\n",
    "\n",
    "# Test 3\n",
    "\n",
    "Now, I want it to calculate something for me and tell me the answer at a specific time. Instead of just a reminder, it should show the work to solve a problem and give me the results at a scheduled time.\n",
    "\n",
    "<img src=\"Task 5.png\" width=\"50%\"/>\n",
    "\n",
    "Again, ChatGPT was slightly delayed in its response, but it did remind me and gave the correct answer. Let’s try something a little different.\n",
    "\n",
    "# Test 4\n",
    "\n",
    "This time, I asked it to create an image of a dog on a skateboard in 2 minutes. Let’s see how it does.\n",
    "\n",
    "<img src=\"Task 6.png\" width=\"50%\"/>\n",
    "\n",
    "Here, it completed the task correctly, except the banner said it was a reminder to drink water. It seems that the banner is labeled as whatever the first task was. I'm not sure if this is a bug or an intentional design choice, but it feels odd to label it by the first task rather than the current one.\n",
    "\n",
    "# Test 5\n",
    "\n",
    "Now, I will try to get it to execute the first task I gave it again in 2 minutes. If it works correctly, it should tell me to drink water.\n",
    "\n",
    "This test worked. ChatGPT correctly reminded me to drink water. Additionally, I was in another chat while waiting for the notification, and it still properly alerted me. Overall, this new scheduled tasks beta seems to be working as expected.\n",
    "\n",
    "# Test 6\n",
    "\n",
    "For this sixth and final test, I want to see if ChatGPT can set a reminder to do something less than 1 minute from when I tell it to.\n",
    "\n",
    "<img src=\"Task 7.png\" width=\"50%\"/>\n",
    "\n",
    "In this test, ChatGPT was not able to deliver the reminder in under 1 minute. Even though I told it to remind me in 30 seconds, it took over a minute for the notification to appear. While this shows a minor flaw in the functionality, I don’t think anyone will need reminders in under a minute anyway. I anticipate most people using this feature for longer timeframes.\n"
   ]
  },
  {
   "cell_type": "code",
   "execution_count": null,
   "id": "4b9b1bef-d516-417b-a6e2-7ddbee8d25cd",
   "metadata": {},
   "outputs": [],
   "source": []
  }
 ],
 "metadata": {
  "citation-manager": {
   "items": {}
  },
  "kernelspec": {
   "display_name": "Python 3 (ipykernel)",
   "language": "python",
   "name": "python3"
  },
  "language_info": {
   "codemirror_mode": {
    "name": "ipython",
    "version": 3
   },
   "file_extension": ".py",
   "mimetype": "text/x-python",
   "name": "python",
   "nbconvert_exporter": "python",
   "pygments_lexer": "ipython3",
   "version": "3.10.12"
  }
 },
 "nbformat": 4,
 "nbformat_minor": 5
}
