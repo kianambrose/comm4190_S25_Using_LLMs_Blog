{
 "cells": [
  {
   "cell_type": "markdown",
   "id": "fed833df-607d-466b-b2b2-28ce152754cb",
   "metadata": {},
   "source": [
    "---\n",
    "title: \"Dr. Chat GPT?\"\n",
    "description: \"Can Chat GPT become my new doctor?\"\n",
    "author: \"Kian Ambrose\"\n",
    "date: \"02/06/2025\"\n",
    "categories:\n",
    "  - LLMs\n",
    "  - Chat GPT 4o\n",
    "  - Image Recreation\n",
    "---"
   ]
  },
  {
   "cell_type": "markdown",
   "id": "a1e6fc29-0fcf-4a19-9fde-8beba596b265",
   "metadata": {},
   "source": [
    "# AI Doctor\n",
    "In this post I will examine the ability of Chat GPT to perform key responsibilities of a doctor, mainly diagnosing and treating ilnneses and medical knowledge.\n",
    "\n",
    "I will begin by researching diseases and illnesses and sharing the symptoms that are commonly occuring to Chat GPT. I will then ask it to identify what illness or disease it thinks I am describing."
   ]
  },
  {
   "cell_type": "markdown",
   "id": "ad3967a6-8b49-42e2-8364-10554837f96b",
   "metadata": {},
   "source": [
    "#  Diagnosing Illness\n",
    "\n"
   ]
  }
 ],
 "metadata": {
  "kernelspec": {
   "display_name": "Python 3 (ipykernel)",
   "language": "python",
   "name": "python3"
  },
  "language_info": {
   "codemirror_mode": {
    "name": "ipython",
    "version": 3
   },
   "file_extension": ".py",
   "mimetype": "text/x-python",
   "name": "python",
   "nbconvert_exporter": "python",
   "pygments_lexer": "ipython3",
   "version": "3.10.12"
  }
 },
 "nbformat": 4,
 "nbformat_minor": 5
}
