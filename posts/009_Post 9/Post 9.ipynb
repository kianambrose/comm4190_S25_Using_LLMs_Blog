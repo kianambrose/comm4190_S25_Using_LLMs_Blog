{
 "cells": [
  {
   "cell_type": "raw",
   "id": "ca81316b-8ec0-4749-9ae7-ddc3180c19da",
   "metadata": {},
   "source": [
    "---\n",
    "title: \"Gemini 2.0 Flash Experimental\"\n",
    "description: \"Updating artwork without redoing the entire image \"\n",
    "author: \"Kian Ambrose\"\n",
    "date: \"03/18/2025\"\n",
    "categories:\n",
    "  - LLMs\n",
    "  - Gemini 2.0\n",
    "  - Image Editing\n",
    "---"
   ]
  },
  {
   "cell_type": "markdown",
   "id": "4155ac4b-dd65-4f57-85ce-03c0bb0f696b",
   "metadata": {},
   "source": [
    "# Image Editing\n",
    "\n",
    "Up until the release of Gemini 2.0 Flash Experimental, editing images using an LLM was a pain. Once the initial image was generated, if you wanted to change any part of the image, the LLM would often also change other parts of the image, and mess up the image overall. It was better to simply restart the image generation process, explicitly including the key instruction that it missed in the first attempt. Google Gemini's new release claims to solve this problem, making the process of editing an image much easier and less frustrating."
   ]
  },
  {
   "cell_type": "markdown",
   "id": "6767ddea-b6b6-4283-84c0-98cc14f90715",
   "metadata": {},
   "source": [
    "# Attempt 1\n",
    "\n",
    "Here, I asked Gemini to create an image of a birthday cake that said Happy Birthday on the icing. Here is what it created:\n",
    "\n",
    "<img src=\"Birthday 1.jpeg\" width=\"50%\"/>\n",
    "\n",
    "Clearly, it correctly creates the cake with the proper message written on the top. Now, I will try to add 6 candles to the cake without anything else changing. I will simply ask it to add 6 candles, hoping that it will know not to change anything else.\n",
    "\n",
    "<img src=\"Birthday 2.jpeg\" width=\"50%\"/>\n",
    "\n",
    "Here, Gemini adds the correct amount of candles but removes the writing from the cake. Gemini also removes 3 cherries from the top of the cake and changes the icing pattern in a couple of places. Overall, however, the main aspects of the cake stayed the same, including the size, shape, color, and even the background behind the cake. Next, I will give it more instruction, asking it to add the candles, but make sure to keep the writing and everything else on the cake the same. Here is the result:\n",
    "\n",
    "<img src=\"Birthday 3.jpeg\" width=\"50%\"/>\n",
    "\n",
    "Gemini did a better job this time. Although the writing is not exactly the same size and placement as the initial cake, the style and color of the writing are the same and it looks like it was made smaller to allow space for the candles. The only thing that is wrong is that Gemini include 7 candles when I asked it for 6. I will now ask it to recount the number of candles and tell me how many are currently on the cake.\n",
    "\n",
    "## Response: There are six candles on the cake.\n",
    "\n",
    "I wrote back to Gemini and told it that there were 7 candles on the cake that it made for me. It apologized and admitted that it was wrong. It then tried to fix the problem but created a cake with 4 candles.\n",
    "\n",
    "Throughout this process, it seems that Gemini did a good job of editing certain features of the image that I wanted to edit while keeping other features the same. The thing that it seems to be struggling with is counting the number of items of something in the image. The next experiment will address this. Overall, Gemini seems to have improved on the ability to change a feature of an image and certainly requires less instruction than its competitors when it comes to altering a specific part of an image.\n",
    "\n",
    "\n"
   ]
  },
  {
   "cell_type": "markdown",
   "id": "823df8dd-e8f3-4d08-9733-0c2e07248926",
   "metadata": {},
   "source": [
    "# Attempt 2\n",
    "\n",
    "This attempt will focus on the ability of Gemini to count the number of pencils in an image. First, I asked it to create an image of 7 pencils. Here is what I got:\n",
    "\n",
    "<img src=\"Pencil 1.jpeg\" width=\"50%\"/>\n",
    "\n",
    "Clearly, there are 11 pencils. This surprised me because Gemini was not off by one or two pencils, but rather was off by 4. I now wonder what process Gemini uses to identify what is an individual pencil in the image and how it keeps track of the number of individual pencils. To see what Gemini thought of its own creation, I asked it to count how many pencils were in that image.\n",
    "\n",
    "## Response: There are 9 pencils in the image.\n",
    "\n",
    "Again, I am surprised by the inability of Gemini to count but also by the choice of 9. I would have thought that it would be 7 since that was the number included in the instructional prompt. To test its confidence in its answer, I asked if it was sure about its response, hoping that maybe it would double-check and count correctly.\n",
    "\n",
    "## Response:  You are absolutely right! My apologies. I miscounted the pencils in the image. There are indeed 9 pencils. Thank you for pointing out my mistake!\n",
    "\n",
    "Here, we see one of the flaws that I often encounter when using LLM's. They struggle to retrace their own steps which leads to repeated or flawed logic. It first apologized for counting wrong, then told me that the number of pencils in the image was 9. I now have even less confidence in the ability of Gemini to count the number of pencils in the image. Let's see if Gemini can remove 3 pencils from the image correctly. \n",
    "\n",
    "<img src=\"Pencil 2.jpeg\" width=\"50%\"/>\n",
    "\n",
    "Here, it removed all of the pencils, leaving only the background from the previous images. I tried this again to see if it would correct itself and it made the same mistake.\n",
    "\n",
    "\n",
    "# Conclusion\n",
    "Overall, my experiments highlight both the strengths and weaknesses of Gemini's image editing capabilities. It performs well when it comes to modifying specific features of an image, such as adding candles to a cake while maintaining most of the original elements. However, it struggles significantly with counting objects, both when generating an image and when analyzing an existing one. The inability to consistently count or recognize individual objects, such as pencils, suggests a limitation in its object-tracking capabilities. Additionally, Gemini's tendency to miscount and then confidently assert incorrect answers shows a flaw in its ability to verify its own outputs. While its image manipulation skills are improving, there is still a lot of work to be done when it comes to precise object identification and numerical accuracy. Future tests will explore whether these issues persist in different contexts and whether improvements can be made with more refined prompting.\n",
    "\n",
    "\n",
    "\n",
    "\n",
    "\n"
   ]
  }
 ],
 "metadata": {
  "citation-manager": {
   "items": {}
  },
  "kernelspec": {
   "display_name": "Python 3 (ipykernel)",
   "language": "python",
   "name": "python3"
  },
  "language_info": {
   "codemirror_mode": {
    "name": "ipython",
    "version": 3
   },
   "file_extension": ".py",
   "mimetype": "text/x-python",
   "name": "python",
   "nbconvert_exporter": "python",
   "pygments_lexer": "ipython3",
   "version": "3.10.12"
  }
 },
 "nbformat": 4,
 "nbformat_minor": 5
}
