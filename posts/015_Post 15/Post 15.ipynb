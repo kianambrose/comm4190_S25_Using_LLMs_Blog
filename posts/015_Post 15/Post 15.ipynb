{
 "cells": [
  {
   "cell_type": "raw",
   "id": "75d2fc24-7cb5-4afc-b88d-4e085cb0b78f",
   "metadata": {},
   "source": [
    "---\n",
    "title: \"Guessing Height with Chat GPT\"\n",
    "description: \"How well can Chat GPT estimate height based solely on pictures?\"\n",
    "author: \"Kian Ambrose\"\n",
    "date: \"04/09/2025\"\n",
    "categories:\n",
    "  - LLMs\n",
    "  - Images\n",
    "  - Estimation\n",
    "execute:\n",
    "  echo: false\n",
    "  output: asis\n",
    "\n",
    "---"
   ]
  },
  {
   "cell_type": "markdown",
   "id": "a124e784-f25f-4f4b-b750-d0904bd9a3ab",
   "metadata": {},
   "source": [
    "# Plan\n",
    "\n",
    "For this post, I am going to be feeding images to ChatGPT and having it estimate the height of people or objects in the images. I will not give it any references to base the height off of. I simply want to see how well it can perform without being given any hints. I anticipate ChatGPT being fairly good at estimating height, especially if the image includes a lot of items that ChatGPT can use to base off of.\n",
    "\n",
    "# Test 1\n",
    "\n",
    "<img src=\"Height 1.png\" width=\"50%\"/>\n",
    "\n",
    "Here, ChatGPT got both estimations almost exactly correct. I am still slightly unsure if I would trust its reasoning that the person on the left looks \"around average male height.\" Let's see if it can explain with more detail how it came to that conclusion.\n",
    "\n",
    "<img src=\"Height 2.png\" width=\"50%\"/>\n",
    "\n",
    "It seems that the entire calculation begins on an assumption of the person on the left's height. I am slightly surprised that ChatGPT would not use the beach cabana in the background as a reference point. I am sure it knows the average height of a beach cabana, so that seems like it would be a more direct way to estimate height rather than by assuming the height of the person on the left based on appearance.\n",
    "\n",
    "# Test 2\n",
    "\n",
    "This time, I tried giving it an image with more reference points to base height off of. Let's see how it does. \n",
    "\n",
    "<img src=\"Height 3.png\" width=\"50%\"/>\n",
    "<img src=\"Height 4.png\" width=\"50%\"/>\n",
    "\n",
    "This time, ChatGPT approaches the problem more in the way that I would expect. It uses its knowledge of the average heights of other things in the image to estimate the height of the man. All of the reasoning behind why it made its choice seems to make sense. The one thing that it doesn't mention is the perspective of the camera. The camera is slightly below the head of the man, which would make him appear slightly taller than he really is. ChatGPT overestimates his height by 3 inches. I am not sure if this is all due to the angle of the photo or if the kitchen has different measurements than what it estimated.\n",
    "\n",
    "# Test 3\n",
    "\n",
    "<img src=\"Height 5.png\" width=\"50%\"/>\n",
    "<img src=\"Height 6.png\" width=\"50%\"/>\n",
    "<img src=\"Height 7.png\" width=\"50%\"/>\n",
    "\n",
    "Here, ChatGPT decides to approach the problem using the dogs as a reference. This is a good idea because it correctly identified the breeds of the dogs and their heights. The calculation, however, led to a height that was far too tall. I think it is interesting that in both of the approaches using the dogs, the estimation was way off, and that ChatGPT noticed this and changed its approach. Its final approach was correct, and while it was more simple, it seems that often ChatGPT is better at estimating height based on body proportions rather than the objects or dogs around you.\n"
   ]
  }
 ],
 "metadata": {
  "citation-manager": {
   "items": {}
  },
  "kernelspec": {
   "display_name": "Python 3 (ipykernel)",
   "language": "python",
   "name": "python3"
  },
  "language_info": {
   "codemirror_mode": {
    "name": "ipython",
    "version": 3
   },
   "file_extension": ".py",
   "mimetype": "text/x-python",
   "name": "python",
   "nbconvert_exporter": "python",
   "pygments_lexer": "ipython3",
   "version": "3.10.12"
  }
 },
 "nbformat": 4,
 "nbformat_minor": 5
}
