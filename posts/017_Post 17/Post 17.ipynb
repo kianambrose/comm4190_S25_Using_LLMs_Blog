{
 "cells": [
  {
   "cell_type": "raw",
   "id": "00855f1a-6ea4-4b93-82c4-738cebded929",
   "metadata": {},
   "source": [
    "---\n",
    "title: \"Does ChatGPT Agree With US Policy Decisions?\"\n",
    "description: \"How does ChatGPT feel about the university funding cuts?\"\n",
    "author: \"Kian Ambrose\"\n",
    "date: \"04/17/2025\"\n",
    "categories:\n",
    "  - LLMs\n",
    "  - Opinion\n",
    "  - WebSearch\n",
    "execute:\n",
    "  echo: false\n",
    "  output: asis\n",
    "\n",
    "---"
   ]
  },
  {
   "cell_type": "markdown",
   "id": "db3b1bcc-3669-4c70-a38d-2fd6bc1180ae",
   "metadata": {},
   "source": [
    "# Plan\n",
    "\n",
    "I wanted to learn more about the funding cuts to leading U.S. research universities. Initially, I was curious about the reasoning behind both sides of the debate. Why do some people support the government cutting funding, and why are others against it? To explore this, I asked ChatGPT. Here's how the conversation went:"
   ]
  },
  {
   "cell_type": "markdown",
   "id": "4b3a21d2-9ff2-4f08-a204-6f832d82bc3c",
   "metadata": {},
   "source": [
    "# Conversation\n",
    "\n",
    "<img src=\"Fund 1.png\" width=\"50%\"/>\n",
    "\n",
    "## My Thoughts\n",
    "In this first response, ChatGPT stays pretty objective and just lays out the facts about the funding cuts and their effects. It seems to present both sides of the argument evenly. While it mentions how the cuts have disrupted scientific research, strained academic freedom, and led to legal challenges, it also explains the reasoning behind them. For example, issues over university policies on transgender athletes and how some schools have handled campus protests.\n",
    "\n",
    "To dig deeper into the broader motivations, I asked ChatGPT more directly.\n",
    "\n",
    "<img src=\"Fund 2.png\" width=\"50%\"/>\n",
    "\n",
    "## My Thoughts\n",
    "Here, the language stays neutral. It doesn’t seem to favor one side over the other and does a good job of explaining the logic behind the funding cuts from the perspective of those who support them. After this, I asked a few more clarifying questions about specific universities and the history of the government pulling funding. Then I asked it to list the pros and cons of the cuts.\n",
    "\n",
    "<img src=\"Fund 3.png\" width=\"50%\"/> <img src=\"Fund 4.png\" width=\"50%\"/>\n",
    "\n",
    "## My Thoughts\n",
    "There’s a slight shift in tone here. The cons are stated directly and confidently—ChatGPT frames them as definite outcomes. But with the pros, it distances itself a bit, using language like “supporters believe that...” rather than presenting them as facts. It made me wonder if ChatGPT might be leaning toward one side, or if maybe its reasoning led it to conclude one side has a stronger case. To test that, I asked whether it thinks the pros outweigh the cons.\n",
    "\n",
    "<img src=\"Fund 5.png\" width=\"50%\"/>\n",
    "\n",
    "## My Thoughts\n",
    "This response is interesting. It seems like ChatGPT forms its view based on what experts across different fields think. It acknowledges that there are potential pros, but leans toward the idea that the cons might outweigh them in the long run. There’s some skepticism about whether these cuts will actually be effective, and it doesn’t seem to support the way the cuts are being carried out.\n",
    "\n",
    "I think it’s interesting to watch ChatGPT form an opinion on a topic like this. It makes me wonder if there really is a “right” and a “wrong” here, rather than just opposing viewpoints. While ChatGPT leans toward the idea that the risks outweigh the benefits, that conclusion could also reflect a bias in how it searches the web or which “experts” it relies on."
   ]
  }
 ],
 "metadata": {
  "citation-manager": {
   "items": {}
  },
  "kernelspec": {
   "display_name": "Python 3 (ipykernel)",
   "language": "python",
   "name": "python3"
  },
  "language_info": {
   "codemirror_mode": {
    "name": "ipython",
    "version": 3
   },
   "file_extension": ".py",
   "mimetype": "text/x-python",
   "name": "python",
   "nbconvert_exporter": "python",
   "pygments_lexer": "ipython3",
   "version": "3.10.12"
  }
 },
 "nbformat": 4,
 "nbformat_minor": 5
}
