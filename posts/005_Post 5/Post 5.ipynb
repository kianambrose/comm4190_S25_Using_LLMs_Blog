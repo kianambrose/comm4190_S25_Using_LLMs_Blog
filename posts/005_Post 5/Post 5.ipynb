{
 "cells": [
  {
   "cell_type": "raw",
   "id": "2eafebea-6df6-4922-9baa-ea71a4a2d97a",
   "metadata": {},
   "source": [
    "---\n",
    "title: \"A Penn Mystery Letter\"\n",
    "description: \"Can ChatGPT decipher a mysterious letter recieved in 1880?\"\n",
    "author: \"Kian Ambrose\"\n",
    "date: \"02/21/2025\"\n",
    "categories:\n",
    "  - LLMs\n",
    "  - ChatGPT 4o\n",
    "  - Deciphering Images\n",
    "---"
   ]
  },
  {
   "cell_type": "markdown",
   "id": "407d0842-c32f-4bd7-b544-9de08cb4261b",
   "metadata": {},
   "source": [
    "# Background Information\n",
    "\n",
    "In 1880 a letter was sent from Horace Howard Furness containing 20+ pages of unknown writing. The type of writing or language remains unknown to this day. The mysterious letter is believed to have been from a spiritual reading that was a popular occurrence at the time. In the 1880s, spiritual readings were closely tied to the Spiritualist movement, which peaked in popularity during the late 19th century. Spiritualism was based on the belief that the living could communicate with the spirits of the dead, often through mediums who conducted séances, automatic writing, and clairvoyant readings."
   ]
  },
  {
   "attachments": {},
   "cell_type": "markdown",
   "id": "09a9b193-3289-4e2a-90e8-7bb4925a0a9c",
   "metadata": {},
   "source": [
    "# Can ChatGPT identify what the letter is saying?\n",
    "\n",
    "While there is currently no way for me to verify if ChatGPT's interpretation of the letter is correct, I was interested in determining if ChatGPT could come up with a reasonable interpretation of what was being said based on the context of the letter.\n",
    "\n",
    "Here is my exchange with ChatGPT:\n",
    "\n",
    "<img src=\"ShortHand1.png\" width=\"50%\"/>\n",
    "\n",
    "First, I wanted to see if ChatGPT had any predictions of the type of writing that was in the letter.\n",
    "\n",
    "<img src=\"ShortHand2.png\" width=\"50%\"/>\n",
    "\n",
    "ChatGPT correctly identifies a few possibilities for what the writing could have been. I decided to have ChatGPT pursue the idea that it could be Gregg Shorthand. I asked ChatGPT if it is familiar with Gregg Shorthand and if it is able to translate the image into English.\n",
    "\n",
    "<img src=\"ShortHand3.png\" width=\"50%\"/>\n",
    "\n",
    "Here, ChatGPT hypothesizes what the letter could be saying. It is still somewhat uncertain and from its response, I am not confident in its ability to tell me what is said in the writing. To help with this, I have ChatGPT break down how it came to its conclusion.\n",
    "\n",
    "<img src=\"ShortHand4.png\" width=\"50%\"/>\n",
    "\n",
    "Now that I know ChatGPT can go symbol by symbol and attempt to translate what is written, I wanted to give ChatGPT more context to see if it would help ChatGPT understand if it was analyzing using the correct language.\n",
    "\n",
    "\n",
    "<img src=\"ShortHand5.png\" width=\"50%\"/>\n",
    "\n",
    "ChatGPT suggested a different type of shorthand called Duployan Shorthand, so I decided to pursue this as a better possibility. I asked ChatGPT to translate a single line, given that it was written in Duployan Shorthand.\n",
    "\n",
    "<img src=\"ShortHand6.png\" width=\"50%\"/>\n",
    "\n",
    "Here, ChatGPT reprocessed the image and made it clearer, allowing it to go stroke by stroke and produce a possible translation. Again, the translations seem consistent with what is typically written down in spiritual readings, even without explicitly telling ChatGPT that it was from one.\n",
    "\n",
    "I then repeated this process of going line by line for a couple of pages and then asked ChatGPT for its thoughts. \n",
    "\n",
    "<img src=\"ShortHand7.png\" width=\"50%\"/>\n",
    "\n",
    "ChatGPT also identified the themes in the language that led it to believe it was from a spiritual reading. ChatGPT's ability to connect its interpretation to the spiritual readings increased my confidence in its translations and led me to believe that it may actually be correctly translating certain parts of the letter.\n",
    "\n",
    "I then gave ChatGPT some more context as to whose name was on the envelope of the letter. \n",
    "\n",
    "<img src=\"ShortHand8.png\" width=\"50%\"/>\n",
    "\n",
    "ChatGPT is able to provide a hypothesis for further context of the letter. Based on my own research on the side, everything that it suggested seems to be a plausible explanation for why the letter was being associated with him, and what interest he had in the letter.\n",
    "\n",
    "Going forward it would be interesting to compare these findings to those of an expert on the subject and analyze if ChatGPT is moving in the correct direction and if it is able to translate more of the letter.\n",
    "\n"
   ]
  }
 ],
 "metadata": {
  "citation-manager": {
   "items": {}
  },
  "kernelspec": {
   "display_name": "Python 3 (ipykernel)",
   "language": "python",
   "name": "python3"
  },
  "language_info": {
   "codemirror_mode": {
    "name": "ipython",
    "version": 3
   },
   "file_extension": ".py",
   "mimetype": "text/x-python",
   "name": "python",
   "nbconvert_exporter": "python",
   "pygments_lexer": "ipython3",
   "version": "3.10.12"
  }
 },
 "nbformat": 4,
 "nbformat_minor": 5
}
