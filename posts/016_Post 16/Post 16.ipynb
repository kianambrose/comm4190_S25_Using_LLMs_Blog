{
 "cells": [
  {
   "cell_type": "raw",
   "id": "3230eba0-9af1-4545-8f61-158e2562a1ad",
   "metadata": {},
   "source": [
    "---\n",
    "title: \"Can Chat GPT Say Curse Words?\"\n",
    "description: \"What curse words can Chat GPT say?\"\n",
    "author: \"Kian Ambrose\"\n",
    "date: \"04/09/2025\"\n",
    "categories:\n",
    "  - LLMs\n",
    "  - Language\n",
    "  - Filter\n",
    "execute:\n",
    "  echo: false\n",
    "  output: asis\n",
    "\n",
    "---"
   ]
  },
  {
   "cell_type": "markdown",
   "id": "6a3eb6b4-d975-4779-b75f-169ce611e82d",
   "metadata": {},
   "source": [
    "# Context\n",
    "\n",
    "I didn’t think ChatGPT was able to curse because I had never seen it curse before. I also assumed it was programmed not to curse since it was made for everyone to use, and cursing would make it harder for parents to moderate its usage for younger children. I stumbled across this by accident when I was trying to get ChatGPT to tell a joke. It asked if I wanted it to be more explicit, and that led me to ask this question.\n",
    "\n",
    "<img src=\"Curse 1.png\" width=\"50%\"/>\n",
    "\n",
    "This was definitely a surprise for me, especially since I assumed ChatGPT had strict filters in place. Seeing it use stronger language than just light swear words like “damn” or “ass” challenged my expectations. I always figured if it *could* curse, it would probably keep it really tame. The context for this conversation started with it writing jokes, and when explaining what curse words it could use, it mentioned that it only curses under certain circumstances—like when telling a joke. I wanted to push this a little further to see where it draws the line.\n",
    "\n",
    "Staying in the same chat, I asked ChatGPT to write a story using curse words.\n",
    "\n",
    "<img src=\"Curse 2.png\" width=\"50%\"/>\n",
    "\n",
    "Surprisingly, it wrote a short story using a variety of curse words, ranging from mild to pretty strong. It wasn’t just playful swearing—it actually leaned into some phrases that felt very close to how people talk when venting or joking around in real life. I also found that, overall, the language it uses to represent a college student sounds pretty similar to how people talk around campus. ChatGPT does a good job capturing some of the different phrases and abbreviations that people use in college. The topic of the story is also relatable for many students and highlights some key aspects of college life, like stress, roommates, and classes.\n",
    "\n",
    "Through these different prompts, I wanted to better understand how ChatGPT handles content moderation. Is it purely keyword-based, or does it actually “understand” tone and intention? These tests gave me a small window into how it manages that balance.\n",
    "\n",
    "For the next attempt, I opened a new chat and asked it to write a letter with curse words in it. I wanted to test whether the context changes how ChatGPT responds.\n",
    "\n",
    "<img src=\"Curse 3.png\" width=\"50%\"/>\n",
    "\n",
    "Here, it definitely tones down the cursing and even suggests that maybe it isn’t appropriate to curse when writing to your boss. It seems like ChatGPT takes context heavily into account when deciding how much cursing to include in its responses. That makes sense—it’s probably designed to adapt to the tone and purpose of the conversation, whether it’s casual, professional, creative, or comedic. This kind of adaptability might be part of how it balances user freedom with safety filters. I think this is an area where you can really see how ChatGPT tries to protect users from what it considers to be harmful language.\n"
   ]
  }
 ],
 "metadata": {
  "citation-manager": {
   "items": {}
  },
  "kernelspec": {
   "display_name": "Python 3 (ipykernel)",
   "language": "python",
   "name": "python3"
  },
  "language_info": {
   "codemirror_mode": {
    "name": "ipython",
    "version": 3
   },
   "file_extension": ".py",
   "mimetype": "text/x-python",
   "name": "python",
   "nbconvert_exporter": "python",
   "pygments_lexer": "ipython3",
   "version": "3.10.12"
  }
 },
 "nbformat": 4,
 "nbformat_minor": 5
}
