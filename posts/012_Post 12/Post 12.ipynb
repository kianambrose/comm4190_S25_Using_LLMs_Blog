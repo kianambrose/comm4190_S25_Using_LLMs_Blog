{
 "cells": [
  {
   "cell_type": "raw",
   "id": "ce283d42-30f5-4170-86d4-f8183707e9aa",
   "metadata": {},
   "source": [
    "---\n",
    "title: \"Chat GPT as a Travel Agent\"\n",
    "description: \"Can Chat GPT plan a trip for me this weekend?\"\n",
    "author: \"Kian Ambrose\"\n",
    "date: \"03/29/2025\"\n",
    "categories:\n",
    "  - LLMs\n",
    "  - Trip Planning\n",
    "  - Web Search\n",
    "execute:\n",
    "  echo: false\n",
    "  output: asis\n",
    "\n",
    "---"
   ]
  },
  {
   "cell_type": "markdown",
   "id": "75d99bbd-880b-473f-abb8-30779b99f00f",
   "metadata": {},
   "source": [
    "# Plan\n",
    "The goal is to see if Chat GPT can effectively plan a trip for me to go to Washington D.C. this weekend. I want it to handle everything for me, including hotels, transportation, flights, things to do, meals, etc. Essentially, I want to pick from a small list of options before I go and then not need to think about any decisions while I am traveling. Chat GPT has a search feature which will be necessary for this task, and I am interested in seeing just how accurate the search feature is. I will double check all of the suggestions Chat GPT makes to see if the options are even available and if the prices are correct. Additionally, I need the plan to make sense. The flights need to be at the right times for me to make it to D.C. and the hotels need to have availability on the days I want to go. Let's see how good of a job Chat GPT does with selecting options that will make my travel experience as easy as possible"
   ]
  },
  {
   "cell_type": "markdown",
   "id": "ab3f7915-2ead-4957-840d-8936ab1e7191",
   "metadata": {},
   "source": [
    "# Prompt 1\n",
    "I first told it my plan. \n",
    "\n",
    "Input: \"I am going to Washington D.C.. I want to leave from Philadelphia on this Friday and come back on Monday. I am currently at Penn so I need transportation to and from the airport. I want you to find me flights, transport, hotels, and things to do in D.C.\"\n",
    "\n",
    "Output:\n",
    "\n",
    "<img src=\"Travel 1.png\" width=\"50%\"/>\n",
    "\n",
    "I was very impressed by Chat GPT's response. Not only did it provide options for each category I asked for, but it also provided links to the actual websites so that I could find out more information and book whatever I decided to choose. Additionally, the map showing the different hotels was very helpful because it allowed me to gauge how far the hotels would be from different parts of D.C.. For example, if I wanted to see a the monuments, or if I wanted to go to Georgetown, I would be in two different areas, and the map helps me plan that out. I am also impressed that it linked options for directions, website, and calling for the hotels in the list. When I click on directions it takes me straight to Google Maps and it works perfectly. If I click on website it takes me to the home page of the website, and if I click on call, it opens my facetime app and starts calling the hotel. \n",
    "\n",
    "The only thing that was not accurate was the information about the flights. The prices that Chat gave are way below the prices of the actual flights if I booked today. I am curious if the prices it gave are the average prices had I booked at an earlier date rather than a few days before when it takes off or if it made up the prices based on some other information.\n",
    "\n",
    "Overall, Chat GPT has made the process very easy. Let's try to push it even further.\n",
    "\n",
    "\n",
    "# Prompt 2\n",
    "\n",
    "Input: \"Ok, I want to fly American. I will take the public transport to and from both airports. I want to stay near the monuments in D.C. I want to stay in the nicest hotel there is. Check availability for me. Finally, make me a plan for things to do each day and also things to eat each day. Don't give me options just tell me what to do. I don't want to have to make any decisions.\"\n",
    "\n",
    "Output:\n",
    "\n",
    "<img src=\"Travel 2.png\" width=\"50%\"/>\n",
    "\n",
    "\n",
    "Chat GPT does a very good job of filling time and making decisions for me so that I don't need to decide anything when I am traveling. Every meal and moment is accounted for and it even provides suggestions for making sure everything runs smoothly. It obviously cannot book things for me because it does not have access to all of my information but it seems to get me all the way to the step where I come in and book. I like how it gives some background information on all of the things it recommeneds without giving too much where this process becomes a lot of reading and self planning. All of the recommendations fit the mood of the trip that I had asked for and it seems that Chat GPT got everything correct. My only desire would be to have a more secure version where I could allow it to book things for me and make it so that I really do not have to do anything on my own. Maybe sometime soon that will be an option!\n"
   ]
  },
  {
   "cell_type": "code",
   "execution_count": null,
   "id": "f657e44a-9210-4ea3-820a-e440e0785e0e",
   "metadata": {},
   "outputs": [],
   "source": []
  }
 ],
 "metadata": {
  "citation-manager": {
   "items": {}
  },
  "kernelspec": {
   "display_name": "Python 3 (ipykernel)",
   "language": "python",
   "name": "python3"
  },
  "language_info": {
   "codemirror_mode": {
    "name": "ipython",
    "version": 3
   },
   "file_extension": ".py",
   "mimetype": "text/x-python",
   "name": "python",
   "nbconvert_exporter": "python",
   "pygments_lexer": "ipython3",
   "version": "3.10.12"
  }
 },
 "nbformat": 4,
 "nbformat_minor": 5
}
