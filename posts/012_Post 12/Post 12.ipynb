{
 "cells": [
  {
   "cell_type": "raw",
   "id": "ce283d42-30f5-4170-86d4-f8183707e9aa",
   "metadata": {},
   "source": [
    "---\n",
    "title: \"Can Chat GPT Help me Follow an Internet Trend\"\n",
    "description: \"Writing a Song with Chat GPT \"\n",
    "author: \"Kian Ambrose\"\n",
    "date: \"03/27/2025\"\n",
    "categories:\n",
    "  - LLMs\n",
    "  - Song Generation\n",
    "  - Lyric Creativity\n",
    "execute:\n",
    "  echo: false\n",
    "  output: asis\n",
    "\n",
    "---"
   ]
  },
  {
   "cell_type": "code",
   "execution_count": null,
   "id": "80d76aac-fd6b-4dcb-bbcc-2df7bdd5bfaa",
   "metadata": {},
   "outputs": [],
   "source": []
  }
 ],
 "metadata": {
  "citation-manager": {
   "items": {}
  },
  "kernelspec": {
   "display_name": "Python 3 (ipykernel)",
   "language": "python",
   "name": "python3"
  },
  "language_info": {
   "codemirror_mode": {
    "name": "ipython",
    "version": 3
   },
   "file_extension": ".py",
   "mimetype": "text/x-python",
   "name": "python",
   "nbconvert_exporter": "python",
   "pygments_lexer": "ipython3",
   "version": "3.10.12"
  }
 },
 "nbformat": 4,
 "nbformat_minor": 5
}
