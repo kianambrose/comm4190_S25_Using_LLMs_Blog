{
 "cells": [
  {
   "cell_type": "raw",
   "id": "43d7214b-aa38-430c-84d0-f84325da4dec",
   "metadata": {},
   "source": [
    "---\n",
    "title: \"Chat GPT's  Ability to Recreate Images it is Given\"\n",
    "description: \"Chat GPT and Image Generation\"\n",
    "author: \"Kian Ambrose\"\n",
    "date: \"02/06/2025\"\n",
    "categories:\n",
    "  - LLMs\n",
    "  - Chat GPT 4o\n",
    "  - Image Recreation\n",
    "---"
   ]
  },
  {
   "cell_type": "markdown",
   "id": "75ad7769-1315-4efa-a775-80ffd85f48bf",
   "metadata": {},
   "source": [
    "# I am curious how well Chat GPT can recreate images I use in the prompt\n",
    "\n",
    "In this expirement I will try to get Chat GPT to produce an image most like the one I give it, with the least amount of follow up prompts correcting it."
   ]
  },
  {
   "cell_type": "markdown",
   "id": "e68aa9cd-63a6-4182-8b2a-000de17ba396",
   "metadata": {},
   "source": [
    "For my first test I told Chat Gpt what it was going to be drawing.\n",
    "><img src=\"GPT Test 1.png\" width=\"50%\"/>\n",
    "\n",
    "Without any image of my dog, it was able to produce this photo:\n",
    "\n",
    "><img src=\"First Image of Dog.png\" width=\"50%\"/>\n",
    "\n",
    "This is a pretty typical looking minature Australian Shepherd. While Chat GPT did correctly respond to my prompt about the blue eyes and minature aussie, I decided to be more specific by actually providing an image of the dog I wanted it to recreate. Here is that exchange.\n",
    "\n",
    "><img src=\"2nd Dog.png\" width=\"50%\"/>\n",
    "\n",
    "Here Chat GPT was able to produce an image that looked more like my dog. The image correctly has black fur on top with brown accents around the nose, paws, and neck, and a white belly. Chat GPT also correctly kept the blue eyes that I told it to include from before. Finally, the background of the image was more like that of the image I provided, with wood floors running beneath the dog. \n",
    "\n",
    "My only comment for Chat GPT was that the dog looked a little cartoonish in the picture. I had it try to recreate the dog in a less cartoonish style.\n",
    "\n",
    "><img src=\"3rd Dog.png\" width=\"50%\"/>\n",
    "\n",
    "Overall Chat GPT did a good job recreating my dog here. For the next attempt, I will give less instruction as to what I want it to recreate. I won't tell it that the dog is an aussie and will not mention the color of anything on the dog."
   ]
  },
  {
   "cell_type": "markdown",
   "id": "f7a20724-ffeb-4869-b126-519aebc48ad3",
   "metadata": {},
   "source": [
    "# Attempt 2\n",
    "For this attempt, I simply provided an image of my dog and said \"Draw this Dog.\" Here is the result.\n",
    "\n",
    "><img src=\"4th Dog.png\" width=\"50%\"/>\n",
    "\n",
    "Here, Chat GPT provided a very accurate representation of the image I provided it. Almost all of the coloring on the dog is accurate and it also was able to get the eyes correctly colored even without me directing it to make them blue. Additionally, it put the dog on a carpet, which is similar to the carpet the dog is sitting on in the actual image. \n",
    "\n",
    "To see how well it understood what it drew, I asked it to identify the breed of dog in the image. \n",
    "\n",
    "><img src=\"Breed Dog.png\" width=\"50%\"/>\n",
    "\n",
    "Chat GPT was able to correctly identify the breed \"Australian Shepherd\" and also mentioned that it could be a minature one. It then identified what led it to believe that the dog was of that breed. Finally, it identified key behavioral qualities of the dog, all of which are correct and qualities that my dog actually has. \n",
    "\n",
    "In the next attempt, I will give it an image with all three of my dogs and see how well it is able to draw all three within the same image. I am wondering if having multiple subjects in the same image will make it more difficult for Chat GPT to recreate the image correctly "
   ]
  },
  {
   "cell_type": "markdown",
   "id": "161b3ae7-72a0-4fcd-b5b9-0031abdcdcbf",
   "metadata": {},
   "source": [
    "# Attempt 3\n",
    "For this attempt I simple provided an image with all of my dogs and told chat gpt to recreate the image.\n",
    "\n",
    "><img src=\"All Dog.png\" width=\"50%\"/>\n",
    "\n",
    "Here, Chat GPT was less accurate when producing the image of the dogs. Especially when creating the image of my mini aussie, Chat GPT created a dog that did not really look like my dog in terms of shape, fur, and face. However, Chat GPT did a pretty good job of recreating the sizes of the dogs in relation to one another. It also was able to match the colors of the dogs fairly well and the background matches the scenery in the original image.\n",
    "\n",
    "I then tried to explain the breeds of the dogs to see if that would help Chat GPT produce a better image of the dogs.\n",
    "\n",
    "><img src=\"2nd All Dog.png\" width=\"50%\"/>\n",
    "\n",
    "This slightly surprised me. When I gave Chat GPT more information it produced an image that was less like the original image. In this image the dogs look less like the ones it originally produced. The size and color of the dogs was completely messed up. \n",
    "\n",
    "It seems that Chat GPT became confused when there were too many instructions given in producing the image. Instead, it may be better to let Chat GPT take the reigns and produce what it see's, without providing input as to what is in the image. I think this area of Chat GPT still needs to be tested more and I am curious how well Chat GPT will be able to take constructive criticism on its images in the near future.\n"
   ]
  }
 ],
 "metadata": {
  "kernelspec": {
   "display_name": "Python 3 (ipykernel)",
   "language": "python",
   "name": "python3"
  },
  "language_info": {
   "codemirror_mode": {
    "name": "ipython",
    "version": 3
   },
   "file_extension": ".py",
   "mimetype": "text/x-python",
   "name": "python",
   "nbconvert_exporter": "python",
   "pygments_lexer": "ipython3",
   "version": "3.10.12"
  }
 },
 "nbformat": 4,
 "nbformat_minor": 5
}
