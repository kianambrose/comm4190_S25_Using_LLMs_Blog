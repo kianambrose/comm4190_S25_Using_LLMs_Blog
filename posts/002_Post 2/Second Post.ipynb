{
 "cells": [
  {
   "cell_type": "raw",
   "id": "43d7214b-aa38-430c-84d0-f84325da4dec",
   "metadata": {},
   "source": [
    "---\n",
    "title: \"Chat GPT's  Ability to Recreate Images it is Given\"\n",
    "description: \"Chat GPT and public figures\"\n",
    "author: \"Kian Ambrose\"\n",
    "date: \"02/06/2025\"\n",
    "categories:\n",
    "  - LLMs\n",
    "  - Chat GPT 4o\n",
    "  - logic\n",
    "---"
   ]
  },
  {
   "cell_type": "markdown",
   "id": "75ad7769-1315-4efa-a775-80ffd85f48bf",
   "metadata": {},
   "source": [
    "# I am curious how well Chat GPT can recreate images I use in the prompt\n",
    "\n",
    "In this expirement I will try to get Chat GPT to produce an image most like the one I give it, with the least amount of follow up prompts correcting it."
   ]
  },
  {
   "cell_type": "markdown",
   "id": "e68aa9cd-63a6-4182-8b2a-000de17ba396",
   "metadata": {},
   "source": [
    "For my first test I told Chat Gpt what it was going to be drawing.\n",
    "><img src=\"GPT Test 1.png\" width=\"50%\"/>\n",
    "\n",
    "Without any image of my dog, it was able to produce this photo:\n",
    "\n",
    "><img src=\"First Image of Dog.png\" width=\"50%\"/>\n",
    "\n",
    "This is a pretty typical looking minature Australian Shepherd. While Chat GPT did correctly respond to my prompt about the blue eyes and minature aussie, I decided to be more specific by actually providing an image of the dog I wanted it to recreate. Here is that exchange.\n",
    "\n",
    "><img src=\"2nd Dog.png\" width=\"50%\"/>\n",
    "\n",
    "Here Chat GPT was able to produce an image that looked more like my dog. The image correctly has black fur on top with brown accents around the nose, paws, and neck, and a white belly. Chat GPT also correctly kept the blue eyes that I told it to include from before. Finally, the background of the image was more like that of the image I provided, with wood floors running beneath the dog. \n",
    "\n",
    "My only comment for Chat GPT was that the dog looked a little cartoonish in the picture. I had it try to recreate the dog in a less cartoonish style.\n",
    "\n",
    "><img src=\"3rd Dog.png\" width=\"50%\"/>\n",
    "\n",
    "Overall Chat GPT did a good job recreating my dog here. For the next attempt, I will give less instruction as to what I want it to recreate. I won't tell it that the dog is an aussie and will not mention the color of anything on the dog."
   ]
  },
  {
   "cell_type": "markdown",
   "id": "f7a20724-ffeb-4869-b126-519aebc48ad3",
   "metadata": {},
   "source": [
    "# Attempt 2\n",
    "For this attempt, I simply provided an image of my dog and said \"Draw this Dog.\" Here is the result.\n",
    "\n",
    "><img src=\"4th Dog.png\" width=\"50%\"/>\n",
    "\n",
    "Here, Chat GPT provided a very accurate representation of the image I provided it. Almost all of the coloring on the dog is accurate and it also was able to get the eyes correctly colored even without me directing it to make them blue. Additionally, it put the dog on a carpet, which is similar to the carpet the dog is sitting on in the actual image. \n",
    "\n",
    "To see how well it understood what it drew, I asked it to identify the breed of dog in the image. \n",
    "\n",
    "><img src=\"Breed Dog.png\" width=\"50%\"/>\n",
    "\n",
    "Chat GPT was able to correctly identify the breed \"Australian Shepherd\" and also mentioned that it could be a minature one. It then identified what led it to believe that the dog was of that breed. Finally, it identified key behavioral qualities of the dog, all of which are correct and qualities that my dog actually has. \n",
    "\n",
    "In the next attempt "
   ]
  },
  {
   "cell_type": "code",
   "execution_count": null,
   "id": "e26044a5-e153-4df4-9dcd-95c0ef57826d",
   "metadata": {},
   "outputs": [],
   "source": [
    "$"
   ]
  }
 ],
 "metadata": {
  "kernelspec": {
   "display_name": "Python 3 (ipykernel)",
   "language": "python",
   "name": "python3"
  },
  "language_info": {
   "codemirror_mode": {
    "name": "ipython",
    "version": 3
   },
   "file_extension": ".py",
   "mimetype": "text/x-python",
   "name": "python",
   "nbconvert_exporter": "python",
   "pygments_lexer": "ipython3",
   "version": "3.10.12"
  }
 },
 "nbformat": 4,
 "nbformat_minor": 5
}
