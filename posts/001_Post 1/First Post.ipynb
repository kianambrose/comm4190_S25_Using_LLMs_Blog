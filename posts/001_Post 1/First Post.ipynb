{
 "cells": [
  {
   "cell_type": "raw",
   "id": "9c81231e-81b0-4f9f-9172-7e7e29ff5164",
   "metadata": {},
   "source": [
    "---\n",
    "title: \"My first Post\"\n",
    "description: \"Wow this post actually worked\"\n",
    "author: \"Kian Ambrose\"\n",
    "date: \"01/29/2025\"\n",
    "categories:\n",
    "  - LLMs\n",
    "  - Jupyter\n",
    "  - logic\n",
    "---"
   ]
  },
  {
   "cell_type": "markdown",
   "id": "96dbac1b-731a-4f84-a603-990f763c7b86",
   "metadata": {},
   "source": [
    "# How to make a Post (with Kian)"
   ]
  }
 ],
 "metadata": {
  "kernelspec": {
   "display_name": "Python 3 (ipykernel)",
   "language": "python",
   "name": "python3"
  },
  "language_info": {
   "codemirror_mode": {
    "name": "ipython",
    "version": 3
   },
   "file_extension": ".py",
   "mimetype": "text/x-python",
   "name": "python",
   "nbconvert_exporter": "python",
   "pygments_lexer": "ipython3",
   "version": "3.10.12"
  }
 },
 "nbformat": 4,
 "nbformat_minor": 5
}
