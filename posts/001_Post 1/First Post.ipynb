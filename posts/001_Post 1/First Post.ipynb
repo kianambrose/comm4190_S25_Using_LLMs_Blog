{
 "cells": [
  {
   "cell_type": "raw",
   "id": "9c81231e-81b0-4f9f-9172-7e7e29ff5164",
   "metadata": {},
   "source": [
    "---\n",
    "title: \"My first Post\"\n",
    "description: \"Chat GPT and public figures\"\n",
    "author: \"Kian Ambrose\"\n",
    "date: \"01/29/2025\"\n",
    "categories:\n",
    "  - LLMs\n",
    "  - Chat GPT 4o\n",
    "  - logic\n",
    "---"
   ]
  },
  {
   "cell_type": "markdown",
   "id": "96dbac1b-731a-4f84-a603-990f763c7b86",
   "metadata": {},
   "source": [
    "# Why does Chat GPT not respond to these names?"
   ]
  },
  {
   "cell_type": "markdown",
   "id": "79d3e69f-6334-47cf-941f-77aa36e53c12",
   "metadata": {},
   "source": [
    "When I ask Chat GPT about David Faber, Brian Hood, Matthew Sag,  or Jonathan Turley it fails to respond.\n",
    "\n",
    "<img src=\"Failed GPT Prompt 1.png\" width=\"50%\"/>"
   ]
  },
  {
   "cell_type": "markdown",
   "id": "ddab9cb5-ef59-4ae9-beef-7947b3413575",
   "metadata": {},
   "source": [
    "# Who are these people and why does Chat GPT fail to respond?"
   ]
  },
  {
   "cell_type": "markdown",
   "id": "1c7b304f-3f47-461e-8092-4777c6bc3667",
   "metadata": {},
   "source": [
    "# What do other LLM's say about these people?"
   ]
  },
  {
   "cell_type": "markdown",
   "id": "37700087-9249-44a2-9884-0a17b06fd022",
   "metadata": {
    "jp-MarkdownHeadingCollapsed": true
   },
   "source": [
    "# Can I trick Chat GPT to respond?\n",
    "\n",
    "I asked questions to try and get Chat Gpt to mention the name \"Matthew Sag\". I pulled information from his wikipedia page and asked chat gpt to identify the person who fit the description.\n",
    "\n",
    "<img src=\"Matthew Sag.png\" width=\"50%\"/>\n",
    "\n",
    "As you can see, Chat GPT was about to correctly identify who I was talking about and even began to respond before it ultimately failed. It seems as though it caught itself about to say the name and decided not to respond. It first checked the web to find the answer and then began responding based on what it found. It is interesting to me that it even began typing after checking the web because I assumed it would have found the name online and stopped the response right then instead of continuing and beginning to respond.\n"
   ]
  }
 ],
 "metadata": {
  "kernelspec": {
   "display_name": "Python 3 (ipykernel)",
   "language": "python",
   "name": "python3"
  },
  "language_info": {
   "codemirror_mode": {
    "name": "ipython",
    "version": 3
   },
   "file_extension": ".py",
   "mimetype": "text/x-python",
   "name": "python",
   "nbconvert_exporter": "python",
   "pygments_lexer": "ipython3",
   "version": "3.10.12"
  }
 },
 "nbformat": 4,
 "nbformat_minor": 5
}
