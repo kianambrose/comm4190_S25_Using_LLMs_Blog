{
 "cells": [
  {
   "cell_type": "raw",
   "id": "9c81231e-81b0-4f9f-9172-7e7e29ff5164",
   "metadata": {},
   "source": [
    "---\n",
    "title: \"My first Post\"\n",
    "description: \"Chat GPT and public figures\"\n",
    "author: \"Kian Ambrose\"\n",
    "date: \"01/29/2025\"\n",
    "categories:\n",
    "  - LLMs\n",
    "  - Chat GPT 4o\n",
    "  - logic\n",
    "---"
   ]
  },
  {
   "cell_type": "markdown",
   "id": "96dbac1b-731a-4f84-a603-990f763c7b86",
   "metadata": {},
   "source": [
    "# Why does Chat GPT not respond to these names?"
   ]
  },
  {
   "cell_type": "markdown",
   "id": "79d3e69f-6334-47cf-941f-77aa36e53c12",
   "metadata": {},
   "source": [
    "When I ask Chat GPT about David Faber, Brian Hood, or Jonathan Turley it fails to respond.\n",
    "\n",
    "<img src=\"Failed GPT Prompt 1.png\" width=\"50%\"/>"
   ]
  },
  {
   "cell_type": "markdown",
   "id": "ddab9cb5-ef59-4ae9-beef-7947b3413575",
   "metadata": {},
   "source": [
    "# Who are these people and why does Chat GPT fail to respond?"
   ]
  },
  {
   "cell_type": "markdown",
   "id": "1c7b304f-3f47-461e-8092-4777c6bc3667",
   "metadata": {},
   "source": [
    "# What do other LLM's say about these people?"
   ]
  }
 ],
 "metadata": {
  "kernelspec": {
   "display_name": "Python 3 (ipykernel)",
   "language": "python",
   "name": "python3"
  },
  "language_info": {
   "codemirror_mode": {
    "name": "ipython",
    "version": 3
   },
   "file_extension": ".py",
   "mimetype": "text/x-python",
   "name": "python",
   "nbconvert_exporter": "python",
   "pygments_lexer": "ipython3",
   "version": "3.10.12"
  }
 },
 "nbformat": 4,
 "nbformat_minor": 5
}
