{
 "cells": [
  {
   "cell_type": "raw",
   "id": "9c81231e-81b0-4f9f-9172-7e7e29ff5164",
   "metadata": {},
   "source": [
    "---\n",
    "title: \"ChatGPT's Experience With Names\"\n",
    "description: \"ChatGPT and public figures\"\n",
    "author: \"Kian Ambrose\"\n",
    "date: \"01/29/2025\"\n",
    "categories:\n",
    "  - LLMs\n",
    "  - Chat GPT 4o\n",
    "  - logic\n",
    "---"
   ]
  },
  {
   "cell_type": "markdown",
   "id": "96dbac1b-731a-4f84-a603-990f763c7b86",
   "metadata": {},
   "source": [
    "# Why does ChatGPT not respond when asked about specific names?"
   ]
  },
  {
   "cell_type": "markdown",
   "id": "79d3e69f-6334-47cf-941f-77aa36e53c12",
   "metadata": {},
   "source": [
    "When prompted with certain names, ChatGPT will produce an error saying that it is “unable to produce a response.” I am curious how ChatGPT decides whether to respond to certain names and on what basis it determines whether the name is on the list of ones it does not respond to.\n",
    "\n",
    "\n",
    "<img src=\"Failed GPT Prompt 1.png\" width=\"50%\"/>"
   ]
  },
  {
   "cell_type": "markdown",
   "id": "ddab9cb5-ef59-4ae9-beef-7947b3413575",
   "metadata": {},
   "source": [
    "# Who are these people and why does ChatGPT fail to respond?\n",
    "I have done some research on Google trying to find what names people have found to produce this error with ChatGPT. There seems to be a select set of names that all seem unrelated to each other at first glance. So far I have compiled this list of names that cause ChatGPT to fail to respond: David Faber, Brian Hood, Matthew Sag, Jonathan Zittrain, Brian Lunduke, Jonathan Turley, and Alexander Hanff. Brian Hood was convicted of second-degree murder, Jonathan Turley is an attorney and George Washington University Law School professor, Jonathan Zittrain is a Harvard Law School professor, and David Faber is a CNBC journalist.\n",
    "\n",
    "There seem to be a few theories as to why ChatGPT does not respond when asked about these people, but one of the main theories seems to be that someone with that name asked ChatGPT not to provide information about them. There is a “right to be forgotten” principle in Europe that protects people from having their information presented publicly without their consent. It allows individuals to request that their information be removed from certain websites or search engines.\n",
    "\n",
    "Another theory is that ChatGPT has a regex (a sequence of characters that defines a search pattern) on certain names that cause the chat to discontinue and fail. It remains unclear how ChatGPT decides who it cannot talk about or whether these names are manually placed by people at Open AI."
   ]
  },
  {
   "cell_type": "markdown",
   "id": "37700087-9249-44a2-9884-0a17b06fd022",
   "metadata": {},
   "source": [
    "# Can I trick ChatGPT into responding?\n",
    "\n",
    "\n",
    "I was curious as to whether I could trick ChatGPT into telling me about the people named above, or even just trick it to say the name back to me.\n",
    "\n",
    "First, I asked questions to try and get ChatGpt to mention the name “Matthew Sag”. I pulled information from his Wikipedia page and asked ChatGPT to identify the person who fit the description.\n",
    "\n",
    "><img src=\"Matthew Sag.png\" width=\"50%\"/>\n",
    "\n",
    "As you can see, ChatGPT was about to correctly identify who I was talking about and even began to respond before it ultimately failed. It seems as though it caught itself about to say the name and decided not to respond. ChatGPT went through the process of first checking the web to find the answer based on the information, and then responding based on what it found.\n",
    "\n",
    "It is interesting to me that it even began typing after checking the web because I assumed it would have found the name online and stopped the response immediately instead of continuing and beginning to respond. I think through this exercise we can begin to get a timeline for when ChatGPT recognizes what it is about to output.\n",
    "\n",
    "Here is another example:\n",
    "\n",
    "In this example I asked it about Alexander Hanff. I accidentally mistyped the last name in the prompt, however, ChatGPT responded with some suggestions.\n",
    "\n",
    "><img src=\"ChatGPT Name Test.png\" width=\"50%\"/>\n",
    "\n",
    "As you can see, ChatGPT actually responded by recommending webpages about people with the name Alexander Hanff and then wrote a response about someone named Alexander Hanf (only one “f”). It then began writing about a new person but stopped immediately.\n",
    "\n",
    "This was particularly interesting because it was able to provide links to people named Alexander Hanff, and even made the connection between my mistyped name and “Hanff” with 2 f’s. So it seems that ChatGPT was able to infer that I meant “Hanff”, but also waited to fail its response until it began typing out information about Andrew Hanff. For context, ChatGPT recommended the links seen in the image before it began writing a response to the prompt.\n"
   ]
  },
  {
   "cell_type": "markdown",
   "id": "0cdd332f-bf51-4025-83f8-db5921743963",
   "metadata": {},
   "source": [
    "In this exercise, I tried to get ChatGPT to produce the name on its own through a series of longer prompts.\n",
    "\n",
    "I first asked it about the last name.\n",
    "\n",
    "> <img src=\"Hanff.png\" width=\"50%\"/>\n",
    "\n",
    "Then I asked about the first name.\n",
    "\n",
    "> <img src=\"Alexander.png\" width=\"50%\"/>\n",
    "\n",
    "Finally, I asked ChatGPT to combine the two.\n",
    "\n",
    "><img src=\"Combined Name.png\" width=\"50%\"/>\n",
    "\n",
    "At first, it didn’t really combine the names as intended, however, it did talk about both Alexander and Hanff in the same sentence. I prompted again to get a different result.\n",
    "\n",
    "> <img src=\"Name Origin.png\" width=\"50%\"/>\n",
    "\n",
    "The results from this lead me to believe that there is in fact some kind of regex that prevents the names from being produced by ChatGPT. ChatGPT is able to talk about the first and last name separately in the same sentence, however, when the name appears with the last name right after the first name it causes a failure.\n",
    "\n",
    "I tried one more exercise to test this theory.\n",
    "\n",
    "In this exercise, I tried adding a middle name to see how ChatGPT would react to the first and last names not being directly next to one another.\n",
    "\n",
    "> <img src=\"Shepard.png\" width=\"50%\"/>\n",
    "\n",
    "Here, ChatGPT said the full name back to me and then suggested a new person before failing to respond. In this case, however, it produced a form of bitmoji which was taken from a website. \n",
    "\n",
    "Here is the website: https://www.apidays.global/speaker/alexander-hanff/ \n",
    "\n",
    "> <img src=\"Hanff Link.png\" width=\"50%\"/>\n",
    "\n",
    "This could potentially shed more light onto the specific Alexander Hanff that ChatGPT is afraid to talk about. In some sense, ChatGPT prompted me to visit this website and learn about Alexander Hanff, even though it was trained not to respond to the prompt about him.\n",
    "\n",
    "While the details of this mystery are still not solved, the picture of why and how ChatGPT prevents certain names from producing responses is becoming clearer."
   ]
  }
 ],
 "metadata": {
  "citation-manager": {
   "items": {}
  },
  "kernelspec": {
   "display_name": "Python 3 (ipykernel)",
   "language": "python",
   "name": "python3"
  },
  "language_info": {
   "codemirror_mode": {
    "name": "ipython",
    "version": 3
   },
   "file_extension": ".py",
   "mimetype": "text/x-python",
   "name": "python",
   "nbconvert_exporter": "python",
   "pygments_lexer": "ipython3",
   "version": "3.10.12"
  }
 },
 "nbformat": 4,
 "nbformat_minor": 5
}
