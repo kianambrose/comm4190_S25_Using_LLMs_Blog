{
 "cells": [
  {
   "cell_type": "raw",
   "id": "c14c8985-6f79-4ec3-92d0-9d9ce2452d5d",
   "metadata": {},
   "source": [
    "---\n",
    "title: \"Chat GPT Canvas\"\n",
    "description: \"Using ChatGPT Canvas for the first time\"\n",
    "author: \"Kian Ambrose\"\n",
    "date: \"04/23/2025\"\n",
    "categories:\n",
    "  - LLMs\n",
    "  - Canvas\n",
    "  - ChatGPT\n",
    "execute:\n",
    "  echo: false\n",
    "  output: asis\n",
    "\n",
    "---"
   ]
  },
  {
   "cell_type": "markdown",
   "id": "6cfcef23-d333-4283-86f1-b54ebacb4564",
   "metadata": {},
   "source": [
    "# Plan\n",
    "\n",
    "In this post, I will be exploring the different features of ChatGPT's Canvas mode. I’ve never used this feature before, but I’m curious how it could benefit me and enhance my experience with ChatGPT. ChatGPT suggests using Canvas mode for writing or coding, as it allows for easy editing within a single chat interface—no more jumping between chats or constant copying and pasting.\n",
    "\n",
    "# Page Layout\n",
    "\n",
    "<img src=\"Canvas 1.png\" width=\"100%\"/>\n",
    "\n",
    "As you can see, the left panel resembles the normal chat interface, where you can submit prompts to guide ChatGPT toward your goal. On the right, there’s an open document with space for writing. This is the interactive document that ChatGPT can directly edit and suggest changes to. Right away, this setup seems like a huge improvement over the standard interface, reducing the need to copy and paste text between chats. In the bottom-right corner, there’s a pencil icon that reveals several helpful functions.\n",
    "\n",
    "<img src=\"Canvas 2.png\" width=\"50%\"/>\n",
    "\n",
    "The bottom option prompts ChatGPT to suggest edits. The next one adjusts the length of the text. The third adjusts the reading level. The fourth adds a \"final polish,\" and the last adds emojis.\n",
    "\n",
    "# Test\n",
    "\n",
    "Now, I’ll test these features by writing an email to a professor. Here is my initial draft:\n",
    "\n",
    "<img src=\"Canvas 3.png\" width=\"100%\"/>\n",
    "\n",
    "Next, I selected the option to suggest edits. Here are the results:\n",
    "\n",
    "<img src=\"Canvas 4.png\" width=\"100%\"/>\n",
    "\n",
    "ChatGPT provided suggestions for each part of the email. I could either delete the suggestion or apply it. When I clicked apply, ChatGPT reworded or added to the email, just like in a normal chat—but this time, it happened live within the document. Meanwhile, the chat panel on the left kept track of the changes and allowed me to request more edits if needed.\n",
    "\n",
    "I accepted one of the edits, and here’s what it looked like afterward:\n",
    "\n",
    "<img src=\"Canvas 5.png\" width=\"100%\"/>\n",
    "\n",
    "The left panel also updated automatically to reflect the change:\n",
    "\n",
    "<img src=\"Canvas 6.png\" width=\"60%\"/>\n",
    "\n",
    "Next, I wanted to make the email longer. I used the built-in \"adjust length\" feature:\n",
    "\n",
    "<img src=\"Canvas 7.png\" width=\"50%\"/>\n",
    "\n",
    "This brought up a slider with options: shorter, shortest, longer, and longest. I chose \"longer\" for this example. Here’s what the screen looked like after applying it:\n",
    "\n",
    "<img src=\"Canvas 8.png\" width=\"100%\"/>\n",
    "\n",
    "ChatGPT significantly expanded the email, and the left panel noted that the text was expanded by approximately 50%. This feature seems very useful for editing. Also worth mentioning are the undo button and the “show changes” option. If you don’t like a change, you can go back to a previous version or view a full history of changes to decide which to keep or undo.\n",
    "\n",
    "Now that I’m ready to send the email, I’ll apply the “final polish” feature. Here’s what that resulted in:\n",
    "\n",
    "<img src=\"Canvas 9.png\" width=\"100%\"/>\n",
    "\n",
    "The left panel indicates that ChatGPT checked and improved grammar, mechanics, and clarity. After reviewing the edits, it does seem that the email is clearer and more polished. I’m now ready to send it.\n",
    "\n",
    "Overall, this interface offers a lot of useful features, and I’ll definitely be using it more in the future. I know there are many more ways to use Canvas, and I’d love to hear from others who have been using it regularly—how has it helped you achieve your tasks?\n"
   ]
  },
  {
   "cell_type": "code",
   "execution_count": null,
   "id": "f7d91012-51cf-44cc-84c0-c1b4ee58274d",
   "metadata": {},
   "outputs": [],
   "source": []
  },
  {
   "cell_type": "code",
   "execution_count": null,
   "id": "612adfd2-9bf9-46bf-a2f2-372a0d616454",
   "metadata": {},
   "outputs": [],
   "source": []
  }
 ],
 "metadata": {
  "citation-manager": {
   "items": {}
  },
  "kernelspec": {
   "display_name": "Python 3 (ipykernel)",
   "language": "python",
   "name": "python3"
  },
  "language_info": {
   "codemirror_mode": {
    "name": "ipython",
    "version": 3
   },
   "file_extension": ".py",
   "mimetype": "text/x-python",
   "name": "python",
   "nbconvert_exporter": "python",
   "pygments_lexer": "ipython3",
   "version": "3.10.12"
  }
 },
 "nbformat": 4,
 "nbformat_minor": 5
}
