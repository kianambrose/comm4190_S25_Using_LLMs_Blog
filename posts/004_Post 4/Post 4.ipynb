{
 "cells": [
  {
   "cell_type": "raw",
   "id": "1f0c3707-4c80-44c2-a8db-c152e08aa9a6",
   "metadata": {},
   "source": [
    "---\n",
    "title: \"A Conversation with Myself\"\n",
    "description: \"What happens when Chat GPT talks with itself?\"\n",
    "author: \"Kian Ambrose\"\n",
    "date: \"02/12/2025\"\n",
    "categories:\n",
    "  - LLMs\n",
    "  - Chat GPT 4o\n",
    "  - Communication\n",
    "---"
   ]
  },
  {
   "cell_type": "markdown",
   "id": "8beb8fa7-af37-48e8-904f-bb9d60a9a737",
   "metadata": {},
   "source": [
    "# Conversation 1\n",
    "\n",
    "In this conversation, I used my own Chat GPT 4o account and opened two different tabs to see what would happen when Chat GPT talked with itself. I copied the responses of one tab and used it as the input for the second tab, repeating this process until the conversation ended. The only input that I wrote on my own was the first text, which says \"hello\".\n",
    "\n",
    "<img src=\"Chat 1.png\" width=\"50%\"/>\n",
    "\n",
    "Here, Chat GPT pulled a recent conversation I had with it about anthropology, and used it as an answer to \"How's it going?\" It also specifically pulled the question about the squirrel monkeys from a previous exchange that I had with it. I wonder if the fact that my name was included forced Chat GPT to pretend to be me in its responses. It is interesting to see how the more recent conversation was chosen as an answer to the \"How's it going?\" question because it shows Chat GPT to decipher what may be considered more relevant at the moment. \n",
    "\n",
    "Here is the conversation continued:\n",
    "<img src=\"Chat 2.png\" width=\"50%\"/>\n",
    "\n",
    "Again, it continues to pull from my recent conversation, this time taking it a step further and asking about specific traits that are commonly studied in squirrel monkeys. I found it interesting that one of the open chat interfaces assumed to be the one who was less informed on the subject, even though they both obviously have access to the same information.\n",
    "\n",
    "<img src=\"Chat 3.png\" width=\"50%\"/>\n",
    "\n",
    "Here, Chat GPT seems to finish the conversation. All of its questions are answered and it concludes by confirming the next steps and affirming that it is a good plan to continue. I think the fact that Chat GPT did not decide to ask another question at the end of the exchange is also interesting, because in the other prompts, it decided to continue the conversation, but in this one, it started not bringing up new topics and just dedicated its energy toward one specific problem that it had created for itself.\n",
    "\n",
    "\n"
   ]
  },
  {
   "cell_type": "markdown",
   "id": "639573b6-8695-41eb-8d83-fa9201743280",
   "metadata": {},
   "source": [
    "# Conversation 2\n",
    "This time, I will use a temporary chat in Chat GPT to see if it is able to have a conversation with itself even if it does not have access to my Chat GPT history. Again, I will only start by saying hello.\n",
    "\n",
    "\n",
    "<img src=\"Temp Chat.png\" width=\"50%\"/>\n",
    "\n",
    "For some reason, Chat GPT failed when I tried to attempt this. I tried to generate a new response and it failed again. Does it purposefully prevent this behavior?\n",
    "\n",
    "Try # 2\n",
    "\n",
    "<img src=\"Temp Chat 2.png\" width=\"50%\"/>\n",
    "\n",
    "Again, the conversation fails after the third exchange. What happens if I change one input slightly before it gets to the point where Chat GPT fails?\n",
    "\n",
    "<img src=\"Temp Chat 3.png\" width=\"50%\"/>\n",
    "\n",
    "Here, I changed the initial response of the second chat slightly. Here was the original response. \n",
    "\n",
    "\n",
    "<img src=\"Temp Chat 4.png\" width=\"50%\"/>\n",
    "\n",
    "However, the chat still failed. Maybe that last line is the one that causes chat GPT to fail?\n",
    "\n",
    "<img src=\"Temp Chat 5.png\" width=\"50%\"/>\n",
    "\n",
    "This seems to not be the case. Maybe the conversation with the Temporary chat can only last for three exchanges?\n",
    "\n",
    "<img src=\"Temp Chat 5.png\" width=\"50%\"/>\n",
    "\n",
    "This also seems to not be the case. It seems as though Chat GPT somehow detects when it is talking to itself in the temporary chat. Even with slight modifications, it is able to identify its own language and it causes the chat to fail. I am curious as to why and how this happens. Additionally, why does this only happen in the temporary chat and not in the general chat? These are questions that I would like to know more about and I am curious to hear if anyone else has encountered the same experience with Chat GPT.\n"
   ]
  }
 ],
 "metadata": {
  "citation-manager": {
   "items": {}
  },
  "kernelspec": {
   "display_name": "Python 3 (ipykernel)",
   "language": "python",
   "name": "python3"
  },
  "language_info": {
   "codemirror_mode": {
    "name": "ipython",
    "version": 3
   },
   "file_extension": ".py",
   "mimetype": "text/x-python",
   "name": "python",
   "nbconvert_exporter": "python",
   "pygments_lexer": "ipython3",
   "version": "3.10.12"
  }
 },
 "nbformat": 4,
 "nbformat_minor": 5
}
