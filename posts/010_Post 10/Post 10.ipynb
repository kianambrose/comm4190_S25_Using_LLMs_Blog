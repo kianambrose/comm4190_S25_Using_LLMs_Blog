{
 "cells": [
  {
   "cell_type": "raw",
   "id": "cbae8967-cd75-4071-bd3c-975878db04b3",
   "metadata": {},
   "source": [
    "---\n",
    "title: \"Gemini 2.0 Flash Experimental\"\n",
    "description: \"Editing Already Drawn Images Without Redrawing Everything \"\n",
    "author: \"Kian Ambrose\"\n",
    "date: \"03/19/2025\"\n",
    "categories:\n",
    "  - LLMs\n",
    "  - Gemini 2.0\n",
    "  - Image Editing\n",
    "---"
   ]
  }
 ],
 "metadata": {
  "kernelspec": {
   "display_name": "Python 3 (ipykernel)",
   "language": "python",
   "name": "python3"
  },
  "language_info": {
   "codemirror_mode": {
    "name": "ipython",
    "version": 3
   },
   "file_extension": ".py",
   "mimetype": "text/x-python",
   "name": "python",
   "nbconvert_exporter": "python",
   "pygments_lexer": "ipython3",
   "version": "3.10.12"
  }
 },
 "nbformat": 4,
 "nbformat_minor": 5
}
