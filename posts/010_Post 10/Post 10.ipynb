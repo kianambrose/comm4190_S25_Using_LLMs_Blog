{
 "cells": [
  {
   "cell_type": "raw",
   "id": "cbae8967-cd75-4071-bd3c-975878db04b3",
   "metadata": {},
   "source": [
    "---\n",
    "title: \"Sora\"\n",
    "description: \"Testing out Open AI's Sora \"\n",
    "author: \"Kian Ambrose\"\n",
    "date: \"03/19/2025\"\n",
    "categories:\n",
    "  - LLMs\n",
    "  - Sora\n",
    "  - Video Creation\n",
    "\n",
    "execute:\n",
    "\n",
    "  output: asis\n",
    "---"
   ]
  },
  {
   "cell_type": "markdown",
   "id": "3ad388ab-9cf3-4669-8ce6-e68b1764499f",
   "metadata": {},
   "source": [
    "# Creating my First Video\n",
    "\n",
    "After logging into Sora, I was able to access the interface for video creation. Using Sora was fairly straight forward and much of the interface mimicked the Chat GPT interface we have all become accustomed to. When creating the video, you include a prompt for what you want to create. You also have the option to choose the aspect ratio, resolution, duration, number of variations of the video, and from a series of presets.\n",
    "\n",
    "## First Video\n",
    "\n",
    "For my first video, I wanted to make something simple, to gauge how well Sora was able to follow instructions. I asked it to create a video of a dog chasing a tennis ball."
   ]
  },
  {
   "cell_type": "code",
   "execution_count": 9,
   "id": "f627ad4e-03b4-41f3-aa0e-a5bd1b60aa5b",
   "metadata": {},
   "outputs": [
    {
     "data": {
      "text/html": [
       "\n",
       "<video width=\"640\" height=\"360\" controls autoplay loop>\n",
       "  <source src=\"Dog Running.mp4\" type=\"video/mp4\">\n",
       "  Your browser does not support the video tag.\n",
       "</video>\n"
      ],
      "text/plain": [
       "<IPython.core.display.HTML object>"
      ]
     },
     "execution_count": 9,
     "metadata": {},
     "output_type": "execute_result"
    }
   ],
   "source": [
    "from IPython.display import HTML\n",
    "\n",
    "\n",
    "video_path = \"Dog Running.mp4\" \n",
    "HTML(f\"\"\"\n",
    "<video width=\"640\" height=\"360\" controls autoplay loop>\n",
    "  <source src=\"{video_path}\" type=\"video/mp4\">\n",
    "  Your browser does not support the video tag.\n",
    "</video>\n",
    "\"\"\")\n"
   ]
  },
  {
   "cell_type": "markdown",
   "id": "cc5473f3-53e4-46d3-84d7-11819f507b09",
   "metadata": {},
   "source": [
    "I was very impressed by the dog's image and movement. The hair moving around looked very realistic and the dog's jumping looked almost identical to dogs I have seen in real life. Additionally, the lighting in the video seemed to make perfect sense, with the shadow directly following the dogs movement. The grass also seems to move perfectly with the paws hitting the ground. I would have said the video was perfect overall if it weren't for the odd movement of the tennis ball. While the dog is following the tennis ball, the tennis ball is clearly not obeying the laws of gravity and it does not look like the ball is being held in the dog's mouth. Also, the rotation of the ball seemed a little odd which threw the video off. Overall, I was very impressed by the realistic nature of the video and I would not have thought it was created by AI if it weren't for the ball movement. \n",
    "\n",
    "One question I have is why the video's created look so realistic, but the images from Chat GPT always look cartoonish? Is this done on purpose, or is this something that OpenAI is still working to improve?\n"
   ]
  },
  {
   "cell_type": "markdown",
   "id": "2bf380e2-a36d-4a73-a9d5-a506bc61c394",
   "metadata": {},
   "source": [
    "# Creating a Second Video\n",
    "\n",
    "For this video, I wanted to give a more complex prompt. "
   ]
  }
 ],
 "metadata": {
  "kernelspec": {
   "display_name": "Python 3 (ipykernel)",
   "language": "python",
   "name": "python3"
  },
  "language_info": {
   "codemirror_mode": {
    "name": "ipython",
    "version": 3
   },
   "file_extension": ".py",
   "mimetype": "text/x-python",
   "name": "python",
   "nbconvert_exporter": "python",
   "pygments_lexer": "ipython3",
   "version": "3.10.12"
  }
 },
 "nbformat": 4,
 "nbformat_minor": 5
}
