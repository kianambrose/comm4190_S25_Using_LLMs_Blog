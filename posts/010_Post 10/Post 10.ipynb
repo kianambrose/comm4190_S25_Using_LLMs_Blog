{
 "cells": [
  {
   "cell_type": "raw",
   "id": "cbae8967-cd75-4071-bd3c-975878db04b3",
   "metadata": {},
   "source": [
    "---\n",
    "title: \"Sora\"\n",
    "description: \"Testing out Open AI's Sora \"\n",
    "author: \"Kian Ambrose\"\n",
    "date: \"03/19/2025\"\n",
    "categories:\n",
    "  - LLMs\n",
    "  - Sora\n",
    "  - Video Creation\n",
    "execute:\n",
    "  echo: false\n",
    "  output: asis\n",
    "\n",
    "---"
   ]
  },
  {
   "cell_type": "markdown",
   "id": "3ad388ab-9cf3-4669-8ce6-e68b1764499f",
   "metadata": {},
   "source": [
    "# Creating my First Video\n",
    "\n",
    "After logging into Sora, I was able to access the interface for video creation. Using Sora was fairly straight forward and much of the interface mimicked the Chat GPT interface we have all become accustomed to. When creating the video, you include a prompt for what you want to create. You also have the option to choose the aspect ratio, resolution, duration, number of variations of the video, and from a series of presets.\n",
    "\n",
    "## First Video\n",
    "\n",
    "For my first video, I wanted to make something simple, to gauge how well Sora was able to follow instructions. I asked it to create a video of a dog chasing a tennis ball."
   ]
  },
  {
   "cell_type": "code",
   "execution_count": 21,
   "id": "b92d0617-1e15-419e-b020-0bc13eeeca1b",
   "metadata": {},
   "outputs": [
    {
     "data": {
      "text/html": [
       "\n",
       "<video width=\"640\" height=\"360\" controls autoplay loop>\n",
       "  <source src=\"Dog Running.mp4\" type=\"video/mp4\">\n",
       "</video>\n"
      ],
      "text/plain": [
       "<IPython.core.display.HTML object>"
      ]
     },
     "metadata": {},
     "output_type": "display_data"
    }
   ],
   "source": [
    "\n",
    "from IPython.display import HTML\n",
    "\n",
    "video_path = \"Dog Running.mp4\"\n",
    "display(HTML(f\"\"\"\n",
    "<video width=\"640\" height=\"360\" controls autoplay loop>\n",
    "  <source src=\"{video_path}\" type=\"video/mp4\">\n",
    "</video>\n",
    "\"\"\"))"
   ]
  },
  {
   "cell_type": "markdown",
   "id": "cc5473f3-53e4-46d3-84d7-11819f507b09",
   "metadata": {},
   "source": [
    "I was very impressed by the dog's image and movement. The hair moving around looked very realistic and the dog's jumping looked almost identical to dogs I have seen in real life. Additionally, the lighting in the video seemed to make perfect sense, with the shadow directly following the dogs movement. The grass also seems to move perfectly with the paws hitting the ground. I would have said the video was perfect overall if it weren't for the odd movement of the tennis ball. While the dog is following the tennis ball, the tennis ball is clearly not obeying the laws of gravity and it does not look like the ball is being held in the dog's mouth. Also, the rotation of the ball seemed a little odd which threw the video off. Overall, I was very impressed by the realistic nature of the video and I would not have thought it was created by AI if it weren't for the ball movement. \n",
    "\n",
    "One question I have is why the video's created look so realistic, but the images from Chat GPT always look cartoonish? Is this done on purpose, or is this something that OpenAI is still working to improve?\n"
   ]
  },
  {
   "cell_type": "markdown",
   "id": "2bf380e2-a36d-4a73-a9d5-a506bc61c394",
   "metadata": {},
   "source": [
    "# Creating a Second Video\n",
    "\n",
    "For this video, I wanted to give a more complex prompt. Here is the prompt I gave it.\n",
    "\n",
    "## Prompt: \n",
    "\"A peaceful early morning in New York City, captured in cinematic 4K. The camera glides over quiet streets as golden sunlight reflects off glass skyscrapers. A light mist rises from the pavement as joggers and early commuters make their way through Central Park. A barista in a small café carefully pours a latte, creating delicate latte art. Yellow taxis roll through intersections, their headlights reflecting on wet pavement from a recent drizzle. A pigeon flutters onto a park bench as distant sirens and soft city sounds fill the air. The scene feels immersive, calming, and real, like the opening shot of a high-budget documentary.\""
   ]
  },
  {
   "cell_type": "code",
   "execution_count": 22,
   "id": "6a5fe24e-35ad-4823-80dc-744d490ebb0b",
   "metadata": {},
   "outputs": [
    {
     "data": {
      "text/html": [
       "\n",
       "<video width=\"640\" height=\"360\" controls autoplay loop>\n",
       "  <source src=\"NYC Video.mp4\" type=\"video/mp4\">\n",
       "</video>\n"
      ],
      "text/plain": [
       "<IPython.core.display.HTML object>"
      ]
     },
     "metadata": {},
     "output_type": "display_data"
    }
   ],
   "source": [
    "from IPython.display import HTML\n",
    "\n",
    "video_path = \"NYC Video.mp4\"\n",
    "display(HTML(f\"\"\"\n",
    "<video width=\"640\" height=\"360\" controls autoplay loop>\n",
    "  <source src=\"{video_path}\" type=\"video/mp4\">\n",
    "</video>\n",
    "\"\"\"))\n"
   ]
  },
  {
   "cell_type": "markdown",
   "id": "f003e022-4fc9-4a43-a6f7-93ef2bf6b5d8",
   "metadata": {},
   "source": [
    "Sora follows most of the instructions well but falls short in a few key areas. The barista successfully creates latte art as described, but the hand movements and the way the coffee creamer spills are incorrect. Additionally, the taxi appears inside the coffee shop instead of rolling through an intersection as intended. Another issue is the absence of pigeons fluttering from a park bench, which was part of the original prompt.\n",
    "\n",
    "That said, Sora does an excellent job of capturing the overall atmosphere I envisioned. The sunlight and coffee shop setting feel incredibly authentic—so much so that, without the small mistakes, I could easily believe I was in Central Park in the morning, enjoying my coffee in New York City. With just a few adjustments, this video could have been perfect. While a few details disrupt the scene, removing those inconsistencies would make everything feel seamless and natural."
   ]
  }
 ],
 "metadata": {
  "kernelspec": {
   "display_name": "Python 3 (ipykernel)",
   "language": "python",
   "name": "python3"
  },
  "language_info": {
   "codemirror_mode": {
    "name": "ipython",
    "version": 3
   },
   "file_extension": ".py",
   "mimetype": "text/x-python",
   "name": "python",
   "nbconvert_exporter": "python",
   "pygments_lexer": "ipython3",
   "version": "3.10.12"
  }
 },
 "nbformat": 4,
 "nbformat_minor": 5
}
