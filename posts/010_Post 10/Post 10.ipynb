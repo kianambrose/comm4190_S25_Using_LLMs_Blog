{
 "cells": [
  {
   "cell_type": "raw",
   "id": "cbae8967-cd75-4071-bd3c-975878db04b3",
   "metadata": {},
   "source": [
    "---\n",
    "title: \"Sora\"\n",
    "description: \"Testing out Open AI's Sora \"\n",
    "author: \"Kian Ambrose\"\n",
    "date: \"03/19/2025\"\n",
    "categories:\n",
    "  - LLMs\n",
    "  - Sora\n",
    "  - Video Creation\n",
    "---"
   ]
  },
  {
   "cell_type": "markdown",
   "id": "3ad388ab-9cf3-4669-8ce6-e68b1764499f",
   "metadata": {},
   "source": [
    "# Creating my First Video\n",
    "\n",
    "After logging into Sora, I was able to access the interface for video creation. Using Sora was fairly straight forward and much of the interface mimicked the Chat GPT interface we have all become accustomed to. When creating the video, you include a prompt for what you want to create. You also have the option to choose the aspect ratio, resolution, duration, number of variations of the video, and from a series of presets.\n",
    "\n",
    "## First Video\n",
    "\n",
    "For my first video, I wanted to make something simple, to gauge how well Sora was able to follow instructions. I asked it to create a video of a dog chasing a tennis ball."
   ]
  },
  {
   "cell_type": "code",
   "execution_count": 9,
   "id": "f627ad4e-03b4-41f3-aa0e-a5bd1b60aa5b",
   "metadata": {},
   "outputs": [
    {
     "data": {
      "text/html": [
       "\n",
       "<video width=\"640\" height=\"360\" controls autoplay loop>\n",
       "  <source src=\"Dog Running.mp4\" type=\"video/mp4\">\n",
       "  Your browser does not support the video tag.\n",
       "</video>\n"
      ],
      "text/plain": [
       "<IPython.core.display.HTML object>"
      ]
     },
     "execution_count": 9,
     "metadata": {},
     "output_type": "execute_result"
    }
   ],
   "source": [
    "from IPython.display import HTML\n",
    "\n",
    "\n",
    "video_path = \"Dog Running.mp4\" \n",
    "HTML(f\"\"\"\n",
    "<video width=\"640\" height=\"360\" controls autoplay loop>\n",
    "  <source src=\"{video_path}\" type=\"video/mp4\">\n",
    "  Your browser does not support the video tag.\n",
    "</video>\n",
    "\"\"\")\n"
   ]
  }
 ],
 "metadata": {
  "kernelspec": {
   "display_name": "Python 3 (ipykernel)",
   "language": "python",
   "name": "python3"
  },
  "language_info": {
   "codemirror_mode": {
    "name": "ipython",
    "version": 3
   },
   "file_extension": ".py",
   "mimetype": "text/x-python",
   "name": "python",
   "nbconvert_exporter": "python",
   "pygments_lexer": "ipython3",
   "version": "3.10.12"
  }
 },
 "nbformat": 4,
 "nbformat_minor": 5
}
